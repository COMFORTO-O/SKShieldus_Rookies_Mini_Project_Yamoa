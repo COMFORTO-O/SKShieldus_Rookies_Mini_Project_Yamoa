{
 "cells": [
  {
   "cell_type": "markdown",
   "metadata": {
    "id": "SmyfQ_LByK3O"
   },
   "source": [
    "회귀 기반 개선 예시 (RandomForestRegressor 사용)\n"
   ]
  },
  {
   "cell_type": "code",
   "execution_count": 17,
   "metadata": {
    "colab": {
     "base_uri": "https://localhost:8080/"
    },
    "executionInfo": {
     "elapsed": 512,
     "status": "ok",
     "timestamp": 1744944462781,
     "user": {
      "displayName": "김나혜",
      "userId": "08193771952898185267"
     },
     "user_tz": -540
    },
    "id": "FTotseG2x93c",
    "outputId": "30dac9a9-4ec3-4f2a-be98-ff64bb09d900"
   },
   "outputs": [
    {
     "name": "stdout",
     "output_type": "stream",
     "text": [
      "   home_winrate  away_winrate\n",
      "0       0.48980       0.51020\n",
      "1       0.51665       0.48335\n",
      "2       0.43280       0.56720\n",
      "3       0.45755       0.54245\n",
      "4       0.50110       0.49890\n",
      "5       0.51905       0.48095\n",
      "6       0.45350       0.54650\n",
      "7       0.54405       0.45595\n",
      "8       0.42370       0.57630\n",
      "9       0.49645       0.50355\n"
     ]
    }
   ],
   "source": [
    "import pandas as pd\n",
    "import numpy as np\n",
    "from sklearn.ensemble import RandomForestRegressor\n",
    "from sklearn.preprocessing import StandardScaler\n",
    "from sklearn.pipeline import make_pipeline\n",
    "\n",
    "\n",
    "# 1. 학습용 데이터\n",
    "data = pd.DataFrame({\n",
    "    'home_pitcher_era': [2.45, 3.12, 4.01, 3.95, 3.30, 2.85, 3.73, 2.67, 3.95, 4.10, 3.40, 3.58, 2.71, 3.85, 2.35, 4.45, 2.95, 3.11, 2.82, 3.48,3.22, 2.55, 3.97, 4.33, 3.27, 3.12, 2.74, 2.89, 3.64, 3.99, 3.55, 3.78, 2.55, 3.50, 2.66, 3.93, 3.88, 3.10, 2.81,3.45, 3.89, 2.77, 3.60, 4.10, 3.56, 2.84, 2.96, 3.25, 3.90, 3.25],\n",
    "    'away_pitcher_era': [3.45, 4.11, 3.33, 2.85, 2.90, 2.75, 4.01, 3.55, 3.88, 3.80, 2.73, 4.10, 3.65, 2.55, 2.90, 3.75, 3.60, 4.33, 3.95, 4.01,3.78, 3.22, 3.91, 2.99, 4.35, 3.75, 3.40, 4.22, 3.20, 4.11, 3.55, 3.25, 4.05, 3.66, 4.44, 3.20, 3.92, 4.01, 3.80,4.25, 3.91, 2.97, 3.82, 3.55, 2.87, 3.61, 3.77, 3.50, 3.42, 3.50],\n",
    "    'home_pitcher_war': [4.10, 3.22, 3.55, 4.23, 3.80, 3.75, 3.90, 3.50, 4.10, 4.00, 3.66, 3.33, 4.20, 3.72, 3.88, 3.90, 4.15, 3.77, 4.35, 4.22, 3.56, 3.91, 4.26, 3.75, 4.00, 3.78, 3.65, 3.22, 3.40, 4.11, 3.55, 4.08, 3.88, 4.15, 4.00, 3.95, 4.21, 3.17, 3.90,4.11, 3.93, 3.11, 4.22, 3.55, 3.82, 3.91, 4.15, 3.45, 3.91, 3.45],\n",
    "    'away_pitcher_war': [3.66, 3.11, 2.99, 3.55, 3.80, 3.72, 3.62, 3.40, 3.88, 3.33, 4.12, 3.88, 3.75, 4.10, 3.66, 3.55, 2.78, 3.25, 3.09, 3.88, 3.33, 3.45, 3.66, 3.99, 3.55, 3.88, 3.22, 3.72, 3.45, 3.60, 4.11, 3.40, 3.50, 3.66, 3.35, 3.77, 4.22, 3.12, 3.99, 3.55, 3.88, 4.11, 3.72, 4.33, 4.08, 4.12, 3.40, 4.24, 3.40, 3.72],\n",
    "    'home_batting_avg': [0.288, 0.265, 0.270, 0.285, 0.290, 0.273, 0.278, 0.270, 0.295, 0.280, 0.268, 0.273, 0.275, 0.286, 0.293, 0.290, 0.265, 0.267, 0.275, 0.272, 0.280, 0.278, 0.290, 0.285, 0.274, 0.276, 0.268, 0.270, 0.285, 0.284, 0.267, 0.278, 0.289, 0.275, 0.293, 0.283, 0.290, 0.292, 0.288, 0.276, 0.284, 0.275, 0.277, 0.290, 0.285, 0.274, 0.289, 0.278, 0.275, 0.289],\n",
    "    'away_batting_avg': [0.273, 0.290, 0.265, 0.285, 0.278, 0.288, 0.274, 0.286, 0.264, 0.276, 0.290, 0.274, 0.280, 0.288, 0.270, 0.265, 0.274, 0.281, 0.268, 0.270, 0.278, 0.285, 0.265, 0.274, 0.289, 0.265, 0.270, 0.276, 0.278, 0.285, 0.283, 0.270, 0.280, 0.290, 0.278, 0.277, 0.273, 0.281, 0.280, 0.268, 0.283, 0.277, 0.287, 0.268, 0.275, 0.286, 0.265, 0.270, 0.278, 0.289],\n",
    "    'winrate_diff': [0.12, -0.25, 0.18, -0.22, 0.15, 0.13, 0.18, -0.28, 0.22, -0.2, 0.11, 0.14, 0.18, -0.21, -0.27, 0.15, 0.17, 0.12, -0.29, 0.25, 0.15, -0.22, 0.28, -0.18, 0.21, 0.19, -0.26, 0.17, -0.19, 0.27, -0.29, 0.14, 0.11, -0.28, 0.19, -0.16, 0.13, -0.21, 0.17, 0.11, -0.29, -0.18, 0.26, -0.22, 0.15, 0.14, 0.18, -0.20, 0.24, 0.14]\n",
    "})\n",
    "\n",
    "features = [\n",
    "    'home_pitcher_era', 'away_pitcher_era',\n",
    "    'home_pitcher_war', 'away_pitcher_war',\n",
    "    'home_batting_avg', 'away_batting_avg'\n",
    "]\n",
    "\n",
    "# 2. 회귀 모델 학습 (스케일러 포함 파이프라인)\n",
    "model = make_pipeline(StandardScaler(), RandomForestRegressor(n_estimators=100, random_state=42))\n",
    "model.fit(data[features], data['winrate_diff'])\n",
    "\n",
    "# 3. 예측 함수 정의\n",
    "def predict_winrate(input_df: pd.DataFrame):\n",
    "    predicted_diff = model.predict(input_df[features])\n",
    "\n",
    "    # 예측된 승률 차이로부터 홈/원정 승률 계산\n",
    "    home_winrate = (predicted_diff + 1) / 2\n",
    "    away_winrate = 1 - home_winrate\n",
    "\n",
    "    result_df = input_df.copy()\n",
    "    result_df['predicted_winrate_diff'] = predicted_diff\n",
    "    result_df['home_winrate'] = home_winrate\n",
    "    result_df['away_winrate'] = away_winrate\n",
    "\n",
    "    return result_df[['predicted_winrate_diff', 'home_winrate', 'away_winrate']]\n",
    "\n",
    "# 4. 새로운 경기 예측\n",
    "new_games = pd.DataFrame({\n",
    "    'home_pitcher_era': [3.10, 2.85, 3.70, 4.20, 3.30, 2.95, 3.60, 3.05, 4.00, 3.25],\n",
    "    'away_pitcher_era': [3.50, 3.10, 2.90, 3.80, 3.60, 4.05, 3.20, 3.45, 3.15, 3.75],\n",
    "    'home_pitcher_war': [3.5, 4.2, 3.0, 2.6, 3.3, 4.0, 2.9, 3.8, 2.7, 3.4],\n",
    "    'away_pitcher_war': [2.8, 3.0, 4.1, 3.5, 2.9, 2.7, 3.4, 3.1, 3.9, 3.2],\n",
    "    'home_batting_avg': [0.278, 0.285, 0.270, 0.265, 0.290, 0.275, 0.282, 0.288, 0.267, 0.280],\n",
    "    'away_batting_avg': [0.273, 0.260, 0.285, 0.280, 0.268, 0.275, 0.276, 0.264, 0.283, 0.272]\n",
    "})\n",
    "\n",
    "\n",
    "\n",
    "predicted = predict_winrate(new_games)\n",
    "\n",
    "predicted.drop(columns=['predicted_winrate_diff'], inplace=True)\n",
    "predicted.to_csv('../csv/winrate.csv', index=False)\n",
    "print(predicted)\n"
   ]
  }
 ],
 "metadata": {
  "colab": {
   "authorship_tag": "ABX9TyM//W7BJhNl2wILFd7Yw5Ay",
   "provenance": []
  },
  "kernelspec": {
   "display_name": "base",
   "language": "python",
   "name": "python3"
  },
  "language_info": {
   "codemirror_mode": {
    "name": "ipython",
    "version": 3
   },
   "file_extension": ".py",
   "mimetype": "text/x-python",
   "name": "python",
   "nbconvert_exporter": "python",
   "pygments_lexer": "ipython3",
   "version": "3.12.7"
  }
 },
 "nbformat": 4,
 "nbformat_minor": 0
}
