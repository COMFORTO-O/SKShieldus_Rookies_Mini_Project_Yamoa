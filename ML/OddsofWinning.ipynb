{
 "cells": [
  {
   "cell_type": "markdown",
   "metadata": {
    "id": "XUCfCggAyODY"
   },
   "source": [
    "cluster 결과 plot"
   ]
  },
  {
   "cell_type": "code",
   "execution_count": 1,
   "metadata": {
    "colab": {
     "base_uri": "https://localhost:8080/",
     "height": 1000
    },
    "executionInfo": {
     "elapsed": 541,
     "status": "ok",
     "timestamp": 1744944048869,
     "user": {
      "displayName": "김나혜",
      "userId": "08193771952898185267"
     },
     "user_tz": -540
    },
    "id": "vHu2NJ9-aIAI",
    "outputId": "aeaaaf01-d721-4b8c-fa42-b6451a465147"
   },
   "outputs": [
    {
     "name": "stdout",
     "output_type": "stream",
     "text": [
      "    cluster  home_pitcher_era  away_pitcher_era  home_pitcher_war  \\\n",
      "0         1              2.94              3.52               3.0   \n",
      "1         1              4.38              2.43               2.7   \n",
      "2         1              3.83              2.16               4.1   \n",
      "3         2              3.50              4.37               2.9   \n",
      "4         2              2.39              4.41               2.7   \n",
      "5         1              2.39              4.02               3.4   \n",
      "6         1              2.15              2.76               2.4   \n",
      "7         0              4.17              2.24               4.0   \n",
      "8         1              3.50              3.71               2.2   \n",
      "9         0              3.77              3.10               4.5   \n",
      "10        1              2.05              2.31               3.9   \n",
      "11        0              4.42              3.24               2.5   \n",
      "12        0              4.08              2.09               2.0   \n",
      "13        2              2.53              4.27               4.0   \n",
      "14        1              2.45              2.65               3.8   \n",
      "15        1              2.46              3.66               3.8   \n",
      "16        1              2.76              2.78               3.9   \n",
      "17        2              3.31              3.30               2.2   \n",
      "18        1              3.08              3.37               2.9   \n",
      "19        1              2.73              2.46               2.3   \n",
      "20        1              3.53              4.42               4.2   \n",
      "21        1              2.35              3.94               3.6   \n",
      "22        2              2.73              4.35               2.8   \n",
      "23        2              2.92              4.24               2.2   \n",
      "24        2              3.14              3.49               2.8   \n",
      "25        2              3.96              4.30               2.8   \n",
      "26        0              2.50              2.22               3.8   \n",
      "27        1              3.29              2.49               3.6   \n",
      "28        0              3.48              2.11               4.2   \n",
      "29        1              2.12              2.81               3.2   \n",
      "\n",
      "    away_pitcher_war  home_batting_avg  away_batting_avg  winrate_diff  \n",
      "0                2.3             0.290             0.295          0.26  \n",
      "1                3.8             0.295             0.262          0.23  \n",
      "2                3.9             0.266             0.257          0.10  \n",
      "3                3.4             0.256             0.274         -0.12  \n",
      "4                3.9             0.261             0.299         -0.25  \n",
      "5                3.2             0.271             0.262          0.22  \n",
      "6                3.3             0.291             0.284          0.13  \n",
      "7                3.1             0.293             0.288         -0.25  \n",
      "8                2.1             0.250             0.262          0.25  \n",
      "9                2.3             0.276             0.286         -0.17  \n",
      "10               2.1             0.271             0.268          0.28  \n",
      "11               3.6             0.261             0.282         -0.28  \n",
      "12               2.8             0.256             0.282         -0.12  \n",
      "13               3.3             0.267             0.277         -0.23  \n",
      "14               4.3             0.297             0.255          0.23  \n",
      "15               2.6             0.266             0.292          0.12  \n",
      "16               3.0             0.276             0.266         -0.14  \n",
      "17               3.9             0.285             0.259         -0.19  \n",
      "18               2.6             0.268             0.252          0.10  \n",
      "19               2.2             0.299             0.280         -0.17  \n",
      "20               2.7             0.298             0.284          0.13  \n",
      "21               2.4             0.263             0.251          0.28  \n",
      "22               4.3             0.275             0.276         -0.23  \n",
      "23               4.0             0.265             0.261         -0.12  \n",
      "24               3.6             0.264             0.282         -0.19  \n",
      "25               4.2             0.252             0.259          0.17  \n",
      "26               4.0             0.280             0.285         -0.12  \n",
      "27               2.5             0.275             0.269          0.12  \n",
      "28               4.2             0.253             0.297         -0.28  \n",
      "29               3.3             0.264             0.257          0.28  \n",
      "\n",
      "📊 클러스터별 평균 특성:\n",
      "          home_pitcher_era  away_pitcher_era  home_pitcher_war  \\\n",
      "cluster                                                         \n",
      "0                3.736667          2.500000            3.5000   \n",
      "1                2.875625          3.093125            3.3125   \n",
      "2                3.060000          4.091250            2.8000   \n",
      "\n",
      "         away_pitcher_war  home_batting_avg  away_batting_avg  winrate_diff  \n",
      "cluster                                                                      \n",
      "0                3.333333          0.269833          0.286667     -0.203333  \n",
      "1                2.893750          0.277500          0.268500      0.151250  \n",
      "2                3.825000          0.265625          0.273375     -0.145000  \n"
     ]
    },
    {
     "name": "stderr",
     "output_type": "stream",
     "text": [
      "c:\\Users\\user\\anaconda3\\Lib\\site-packages\\sklearn\\cluster\\_kmeans.py:1429: UserWarning: KMeans is known to have a memory leak on Windows with MKL, when there are less chunks than available threads. You can avoid it by setting the environment variable OMP_NUM_THREADS=1.\n",
      "  warnings.warn(\n",
      "c:\\Users\\user\\anaconda3\\Lib\\site-packages\\IPython\\core\\pylabtools.py:170: UserWarning: Glyph 44221 (\\N{HANGUL SYLLABLE GYEONG}) missing from font(s) DejaVu Sans.\n",
      "  fig.canvas.print_figure(bytes_io, **kw)\n",
      "c:\\Users\\user\\anaconda3\\Lib\\site-packages\\IPython\\core\\pylabtools.py:170: UserWarning: Glyph 44592 (\\N{HANGUL SYLLABLE GI}) missing from font(s) DejaVu Sans.\n",
      "  fig.canvas.print_figure(bytes_io, **kw)\n",
      "c:\\Users\\user\\anaconda3\\Lib\\site-packages\\IPython\\core\\pylabtools.py:170: UserWarning: Glyph 50976 (\\N{HANGUL SYLLABLE YU}) missing from font(s) DejaVu Sans.\n",
      "  fig.canvas.print_figure(bytes_io, **kw)\n",
      "c:\\Users\\user\\anaconda3\\Lib\\site-packages\\IPython\\core\\pylabtools.py:170: UserWarning: Glyph 54805 (\\N{HANGUL SYLLABLE HYEONG}) missing from font(s) DejaVu Sans.\n",
      "  fig.canvas.print_figure(bytes_io, **kw)\n",
      "c:\\Users\\user\\anaconda3\\Lib\\site-packages\\IPython\\core\\pylabtools.py:170: UserWarning: Glyph 53364 (\\N{HANGUL SYLLABLE KEUL}) missing from font(s) DejaVu Sans.\n",
      "  fig.canvas.print_figure(bytes_io, **kw)\n",
      "c:\\Users\\user\\anaconda3\\Lib\\site-packages\\IPython\\core\\pylabtools.py:170: UserWarning: Glyph 47084 (\\N{HANGUL SYLLABLE REO}) missing from font(s) DejaVu Sans.\n",
      "  fig.canvas.print_figure(bytes_io, **kw)\n",
      "c:\\Users\\user\\anaconda3\\Lib\\site-packages\\IPython\\core\\pylabtools.py:170: UserWarning: Glyph 49828 (\\N{HANGUL SYLLABLE SEU}) missing from font(s) DejaVu Sans.\n",
      "  fig.canvas.print_figure(bytes_io, **kw)\n",
      "c:\\Users\\user\\anaconda3\\Lib\\site-packages\\IPython\\core\\pylabtools.py:170: UserWarning: Glyph 53552 (\\N{HANGUL SYLLABLE TEO}) missing from font(s) DejaVu Sans.\n",
      "  fig.canvas.print_figure(bytes_io, **kw)\n",
      "c:\\Users\\user\\anaconda3\\Lib\\site-packages\\IPython\\core\\pylabtools.py:170: UserWarning: Glyph 47553 (\\N{HANGUL SYLLABLE RING}) missing from font(s) DejaVu Sans.\n",
      "  fig.canvas.print_figure(bytes_io, **kw)\n"
     ]
    },
    {
     "data": {
      "image/png": "[encoded data removed]",
      "text/plain": [
       "<Figure size 800x500 with 2 Axes>"
      ]
     },
     "metadata": {},
     "output_type": "display_data"
    }
   ],
   "source": [
    "import pandas as pd\n",
    "import numpy as np\n",
    "from sklearn.cluster import KMeans\n",
    "from sklearn.preprocessing import StandardScaler\n",
    "from sklearn.decomposition import PCA\n",
    "import matplotlib.pyplot as plt\n",
    "\n",
    "# 무작위로 30개 데이터 생성\n",
    "np.random.seed(42)\n",
    "n_samples = 30\n",
    "\n",
    "test_data = pd.DataFrame({\n",
    "    'home_pitcher_era': np.round(np.random.uniform(2.0, 4.5, n_samples), 2),\n",
    "    'away_pitcher_era': np.round(np.random.uniform(2.0, 4.5, n_samples), 2),\n",
    "    'home_pitcher_war': np.round(np.random.uniform(2.0, 4.5, n_samples), 1),\n",
    "    'away_pitcher_war': np.round(np.random.uniform(2.0, 4.5, n_samples), 1),\n",
    "    'home_batting_avg': np.round(np.random.uniform(0.25, 0.30, n_samples), 3),\n",
    "    'away_batting_avg': np.round(np.random.uniform(0.25, 0.30, n_samples), 3),\n",
    "    'winrate_diff': np.round(np.random.choice(\n",
    "        np.concatenate([\n",
    "            np.random.uniform(-0.3, -0.1, n_samples // 2),\n",
    "            np.random.uniform(0.1, 0.3, n_samples // 2)\n",
    "        ]), n_samples, replace=False), 2)\n",
    "})\n",
    "\n",
    "\n",
    "features = [\n",
    "    'home_pitcher_era', 'away_pitcher_era',\n",
    "    'home_pitcher_war', 'away_pitcher_war',\n",
    "    'home_batting_avg', 'away_batting_avg',\n",
    "    'winrate_diff'\n",
    "]\n",
    "\n",
    "X = test_data[features]\n",
    "\n",
    "# 정규화\n",
    "scaler = StandardScaler()\n",
    "X_scaled = scaler.fit_transform(X)\n",
    "\n",
    "# 클러스터링\n",
    "kmeans = KMeans(n_clusters=3, random_state=42)\n",
    "test_data['cluster'] = kmeans.fit_predict(X_scaled)\n",
    "\n",
    "# 결과 확인\n",
    "print(test_data[['cluster'] + features])\n",
    "\n",
    "# 클러스터별 평균 특성 확인\n",
    "cluster_summary = test_data.groupby('cluster')[features].mean()\n",
    "print(\"\\n📊 클러스터별 평균 특성:\\n\", cluster_summary)\n",
    "\n",
    "# PCA 시각화\n",
    "pca = PCA(n_components=2)\n",
    "pca_result = pca.fit_transform(X_scaled)\n",
    "\n",
    "plt.figure(figsize=(8, 5))\n",
    "plt.scatter(pca_result[:, 0], pca_result[:, 1], c=test_data['cluster'], cmap='viridis')\n",
    "plt.title(\"경기 유형 클러스터링 (PCA 2D)\")\n",
    "plt.xlabel(\"PCA 1\")\n",
    "plt.ylabel(\"PCA 2\")\n",
    "plt.colorbar(label='Cluster')\n",
    "plt.show()\n"
   ]
  },
  {
   "cell_type": "markdown",
   "metadata": {
    "id": "p9CceTKbySmC"
   },
   "source": [
    "KMeans"
   ]
  },
  {
   "cell_type": "code",
   "execution_count": 2,
   "metadata": {
    "colab": {
     "base_uri": "https://localhost:8080/"
    },
    "executionInfo": {
     "elapsed": 45,
     "status": "ok",
     "timestamp": 1744944494530,
     "user": {
      "displayName": "김나혜",
      "userId": "08193771952898185267"
     },
     "user_tz": -540
    },
    "id": "YBL75EMZcAfs",
    "outputId": "72daf24f-e85d-4184-92aa-3ae80b676ea6"
   },
   "outputs": [
    {
     "name": "stdout",
     "output_type": "stream",
     "text": [
      "   home_winrate  away_winrate  cluster\n",
      "0        0.6000        0.4000        1\n",
      "1        0.6000        0.4000        1\n",
      "2        0.4925        0.5075        2\n",
      "3        0.3650        0.6350        0\n",
      "4        0.6000        0.4000        1\n",
      "5        0.6000        0.4000        1\n",
      "6        0.3650        0.6350        0\n",
      "7        0.6000        0.4000        1\n",
      "8        0.4925        0.5075        2\n",
      "9        0.6000        0.4000        1\n"
     ]
    },
    {
     "name": "stderr",
     "output_type": "stream",
     "text": [
      "c:\\Users\\user\\anaconda3\\Lib\\site-packages\\sklearn\\cluster\\_kmeans.py:1429: UserWarning: KMeans is known to have a memory leak on Windows with MKL, when there are less chunks than available threads. You can avoid it by setting the environment variable OMP_NUM_THREADS=1.\n",
      "  warnings.warn(\n"
     ]
    }
   ],
   "source": [
    "import pandas as pd\n",
    "from sklearn.cluster import KMeans\n",
    "from sklearn.preprocessing import StandardScaler\n",
    "\n",
    "# 1. 학습용 데이터\n",
    "data = pd.DataFrame({\n",
    "    'home_pitcher_era': [2.15, 3.21, 3.85, 4.10, 2.95, 3.50, 3.33, 2.80, 3.70, 4.25],\n",
    "    'away_pitcher_era': [3.42, 2.98, 4.20, 3.75, 3.90, 3.10, 2.95, 3.60, 3.55, 4.00],\n",
    "    'home_pitcher_war': [4.1, 2.5, 3.0, 2.8, 3.3, 2.9, 3.2, 3.8, 2.7, 3.1],\n",
    "    'away_pitcher_war': [3.3, 4.0, 2.7, 3.6, 2.8, 3.5, 3.0, 2.9, 3.2, 2.6],\n",
    "    'home_batting_avg': [0.287, 0.271, 0.265, 0.280, 0.290, 0.275, 0.268, 0.282, 0.260, 0.277],\n",
    "    'away_batting_avg': [0.261, 0.290, 0.255, 0.278, 0.265, 0.285, 0.270, 0.276, 0.274, 0.263],\n",
    "    'winrate_diff': [0.18, -0.25, 0.15, -0.27, 0.12, 0.22, -0.20, 0.30, -0.18, 0.13]  # -0.3~-0.1 or 0.1~0.3\n",
    "})\n",
    "\n",
    "features = [\n",
    "    'home_pitcher_era', 'away_pitcher_era',\n",
    "    'home_pitcher_war', 'away_pitcher_war',\n",
    "    'home_batting_avg', 'away_batting_avg'\n",
    "]\n",
    "\n",
    "# 2. 스케일링 및 클러스터링\n",
    "scaler = StandardScaler()\n",
    "X_scaled = scaler.fit_transform(data[features])\n",
    "\n",
    "kmeans = KMeans(n_clusters=5, random_state=42)\n",
    "data['cluster'] = kmeans.fit_predict(X_scaled)\n",
    "\n",
    "# 3. 클러스터별 평균 승률 차이\n",
    "cluster_winrate_map = data.groupby('cluster')['winrate_diff'].mean().to_dict()\n",
    "\n",
    "# 4. 예측 함수\n",
    "def predict_winrate_by_cluster(input_df: pd.DataFrame):\n",
    "    input_scaled = scaler.transform(input_df[features])\n",
    "    clusters = kmeans.predict(input_scaled)\n",
    "    winrate_diffs = pd.Series(clusters).map(cluster_winrate_map)\n",
    "\n",
    "    # 홈팀과 원정팀 승률 계산 (0.5 기준)\n",
    "    home_winrate = (winrate_diffs + 1) / 2\n",
    "    away_winrate = 1 - home_winrate\n",
    "\n",
    "    result_df = input_df.copy()\n",
    "    result_df['cluster'] = clusters\n",
    "    result_df['home_winrate'] = home_winrate\n",
    "    result_df['away_winrate'] = away_winrate\n",
    "\n",
    "    return result_df[['home_winrate', 'away_winrate', 'cluster']]\n",
    "\n",
    "# 5. 새로운 경기 예측 예시\n",
    "new_games = pd.DataFrame({\n",
    "    'home_pitcher_era': [3.10, 2.85, 3.70, 4.20, 3.30, 2.95, 3.60, 3.05, 4.00, 3.25],\n",
    "    'away_pitcher_era': [3.50, 3.10, 2.90, 3.80, 3.60, 4.05, 3.20, 3.45, 3.15, 3.75],\n",
    "    'home_pitcher_war': [3.5, 4.2, 3.0, 2.6, 3.3, 4.0, 2.9, 3.8, 2.7, 3.4],\n",
    "    'away_pitcher_war': [2.8, 3.0, 4.1, 3.5, 2.9, 2.7, 3.4, 3.1, 3.9, 3.2],\n",
    "    'home_batting_avg': [0.278, 0.285, 0.270, 0.265, 0.290, 0.275, 0.282, 0.288, 0.267, 0.280],\n",
    "    'away_batting_avg': [0.273, 0.260, 0.285, 0.280, 0.268, 0.275, 0.276, 0.264, 0.283, 0.272]\n",
    "})\n",
    "\n",
    "# 예측 실행\n",
    "predicted_winrates = predict_winrate_by_cluster(new_games)\n",
    "print(predicted_winrates)\n"
   ]
  },
  {
   "cell_type": "markdown",
   "metadata": {
    "id": "SmyfQ_LByK3O"
   },
   "source": [
    "회귀 기반 개선 예시 (RandomForestRegressor 사용)\n"
   ]
  },
  {
   "cell_type": "code",
   "execution_count": 3,
   "metadata": {
    "colab": {
     "base_uri": "https://localhost:8080/"
    },
    "executionInfo": {
     "elapsed": 512,
     "status": "ok",
     "timestamp": 1744944462781,
     "user": {
      "displayName": "김나혜",
      "userId": "08193771952898185267"
     },
     "user_tz": -540
    },
    "id": "FTotseG2x93c",
    "outputId": "30dac9a9-4ec3-4f2a-be98-ff64bb09d900"
   },
   "outputs": [
    {
     "name": "stdout",
     "output_type": "stream",
     "text": [
      "   predicted_winrate_diff  home_winrate  away_winrate\n",
      "0                 -0.0342       0.48290       0.51710\n",
      "1                  0.0106       0.50530       0.49470\n",
      "2                 -0.1725       0.41375       0.58625\n",
      "3                 -0.1877       0.40615       0.59385\n",
      "4                  0.0237       0.51185       0.48815\n",
      "5                  0.0005       0.50025       0.49975\n",
      "6                 -0.1580       0.42100       0.57900\n",
      "7                  0.0008       0.50040       0.49960\n",
      "8                 -0.2045       0.39775       0.60225\n",
      "9                 -0.0500       0.47500       0.52500\n"
     ]
    }
   ],
   "source": [
    "import pandas as pd\n",
    "import numpy as np\n",
    "from sklearn.ensemble import RandomForestRegressor\n",
    "from sklearn.preprocessing import StandardScaler\n",
    "from sklearn.pipeline import make_pipeline\n",
    "\n",
    "# 1. 데이터\n",
    "np.random.seed(42)\n",
    "n_samples = 30\n",
    "\n",
    "data = pd.DataFrame({\n",
    "    'home_pitcher_era': np.round(np.random.uniform(2.0, 4.5, n_samples), 2),\n",
    "    'away_pitcher_era': np.round(np.random.uniform(2.0, 4.5, n_samples), 2),\n",
    "    'home_pitcher_war': np.round(np.random.uniform(2.0, 4.5, n_samples), 1),\n",
    "    'away_pitcher_war': np.round(np.random.uniform(2.0, 4.5, n_samples), 1),\n",
    "    'home_batting_avg': np.round(np.random.uniform(0.25, 0.30, n_samples), 3),\n",
    "    'away_batting_avg': np.round(np.random.uniform(0.25, 0.30, n_samples), 3),\n",
    "    'winrate_diff': np.round(np.random.choice(\n",
    "        np.concatenate([\n",
    "            np.random.uniform(-0.3, -0.1, n_samples // 2),\n",
    "            np.random.uniform(0.1, 0.3, n_samples // 2)\n",
    "        ]), n_samples, replace=False), 2)\n",
    "})\n",
    "\n",
    "features = [\n",
    "    'home_pitcher_era', 'away_pitcher_era',\n",
    "    'home_pitcher_war', 'away_pitcher_war',\n",
    "    'home_batting_avg', 'away_batting_avg'\n",
    "]\n",
    "\n",
    "# 2. 회귀 모델 학습 (스케일러 포함 파이프라인)\n",
    "model = make_pipeline(StandardScaler(), RandomForestRegressor(n_estimators=100, random_state=42))\n",
    "model.fit(data[features], data['winrate_diff'])\n",
    "\n",
    "# 3. 예측 함수 정의\n",
    "def predict_winrate(input_df: pd.DataFrame):\n",
    "    predicted_diff = model.predict(input_df[features])\n",
    "\n",
    "    # 예측된 승률 차이로부터 홈/원정 승률 계산\n",
    "    home_winrate = (predicted_diff + 1) / 2\n",
    "    away_winrate = 1 - home_winrate\n",
    "\n",
    "    result_df = input_df.copy()\n",
    "    result_df['predicted_winrate_diff'] = predicted_diff\n",
    "    result_df['home_winrate'] = home_winrate\n",
    "    result_df['away_winrate'] = away_winrate\n",
    "\n",
    "    return result_df[['predicted_winrate_diff', 'home_winrate', 'away_winrate']]\n",
    "\n",
    "# 4. 새로운 경기 예측\n",
    "new_games = pd.DataFrame({\n",
    "    'home_pitcher_era': [3.10, 2.85, 3.70, 4.20, 3.30, 2.95, 3.60, 3.05, 4.00, 3.25],\n",
    "    'away_pitcher_era': [3.50, 3.10, 2.90, 3.80, 3.60, 4.05, 3.20, 3.45, 3.15, 3.75],\n",
    "    'home_pitcher_war': [3.5, 4.2, 3.0, 2.6, 3.3, 4.0, 2.9, 3.8, 2.7, 3.4],\n",
    "    'away_pitcher_war': [2.8, 3.0, 4.1, 3.5, 2.9, 2.7, 3.4, 3.1, 3.9, 3.2],\n",
    "    'home_batting_avg': [0.278, 0.285, 0.270, 0.265, 0.290, 0.275, 0.282, 0.288, 0.267, 0.280],\n",
    "    'away_batting_avg': [0.273, 0.260, 0.285, 0.280, 0.268, 0.275, 0.276, 0.264, 0.283, 0.272]\n",
    "})\n",
    "\n",
    "predicted = predict_winrate(new_games)\n",
    "print(predicted)\n"
   ]
  }
 ],
 "metadata": {
  "colab": {
   "authorship_tag": "ABX9TyM//W7BJhNl2wILFd7Yw5Ay",
   "provenance": []
  },
  "kernelspec": {
   "display_name": "base",
   "language": "python",
   "name": "python3"
  },
  "language_info": {
   "codemirror_mode": {
    "name": "ipython",
    "version": 3
   },
   "file_extension": ".py",
   "mimetype": "text/x-python",
   "name": "python",
   "nbconvert_exporter": "python",
   "pygments_lexer": "ipython3",
   "version": "3.12.7"
  }
 },
 "nbformat": 4,
 "nbformat_minor": 0
}
