{
 "cells": [
  {
   "cell_type": "code",
   "execution_count": null,
   "id": "50eb9132",
   "metadata": {},
   "outputs": [
    {
     "data": {
      "text/html": [
       "<div>\n",
       "<style scoped>\n",
       "    .dataframe tbody tr th:only-of-type {\n",
       "        vertical-align: middle;\n",
       "    }\n",
       "\n",
       "    .dataframe tbody tr th {\n",
       "        vertical-align: top;\n",
       "    }\n",
       "\n",
       "    .dataframe thead th {\n",
       "        text-align: right;\n",
       "    }\n",
       "</style>\n",
       "<table border=\"1\" class=\"dataframe\">\n",
       "  <thead>\n",
       "    <tr style=\"text-align: right;\">\n",
       "      <th></th>\n",
       "      <th>티켓링크</th>\n",
       "      <th>인터파크</th>\n",
       "      <th>자이언트</th>\n",
       "      <th>nc다이노스</th>\n",
       "    </tr>\n",
       "  </thead>\n",
       "  <tbody>\n",
       "    <tr>\n",
       "      <th>0</th>\n",
       "      <td>https://www.ticketlink.co.kr/sports/baseball</td>\n",
       "      <td>https://ticket.interpark.com/Contents/Sports</td>\n",
       "      <td>https://ticket.giantsclub.com</td>\n",
       "      <td>https://ticket.ncdinos.com/login</td>\n",
       "    </tr>\n",
       "  </tbody>\n",
       "</table>\n",
       "</div>"
      ],
      "text/plain": [
       "                                           티켓링크  \\\n",
       "0  https://www.ticketlink.co.kr/sports/baseball   \n",
       "\n",
       "                                           인터파크  \\\n",
       "0  https://ticket.interpark.com/Contents/Sports   \n",
       "\n",
       "                            자이언트                            nc다이노스  \n",
       "0  https://ticket.giantsclub.com  https://ticket.ncdinos.com/login  "
      ]
     },
     "execution_count": 2,
     "metadata": {},
     "output_type": "execute_result"
    }
   ],
   "source": [
    "# 8. 티켓 예매처 스크래핑\n",
    "\n",
    "import requests\n",
    "import pandas as pd\n",
    "from bs4 import BeautifulSoup\n",
    "from urllib.parse import urljoin\n",
    "\n",
    "url = \"https://www.koreabaseball.com/Kbo/League/Map.aspx\"\n",
    "headers = {\n",
    "    \"User-Agent\": \"Mozilla/5.0 (Windows NT 10.0; Win64; x64) AppleWebKit/537.36 (KHTML, like Gecko) Chrome/135.0.0.0 Safari/537.36\"\n",
    "}\n",
    "\n",
    "# url로 html을 paersing 함, headers는 사용자가 사람이라는 것을 인증하기 위함\n",
    "response = requests.get(url, headers=headers)\n",
    "soup = BeautifulSoup(response.text, \"html.parser\")\n",
    "\n",
    "# <td> 태그 전체 수집\n",
    "td_tags = soup.select('td')\n",
    "\n",
    "# td_tags의 <a> 태그 전체 수집\n",
    "a_tags = [a for td in td_tags for a in td.find_all('a')]\n",
    "\n",
    "# base_url은 상대경로로 되어 있는 url (페이지 <a> 태그의 href 속성)을\n",
    "# urljoin으로 결합하여 절대경로로 만드는 변수\n",
    "base_url = 'https://www.example.com'\n",
    "absolute_hrefs = [urljoin(base_url, a.get('href')) for a in a_tags if a.get('href')]\n",
    "\n",
    "# 열 개수 - 티켓링크, 인터파크, 구단 자체매매*2\n",
    "num_columns = 4\n",
    "\n",
    "# 절대경로 리스트를 행 단위로 잘라서 리스트로 변환\n",
    "data = [absolute_hrefs[i:i + num_columns] for i in range(0, len(absolute_hrefs), num_columns)]\n",
    "\n",
    "# 열 이름 설정\n",
    "columns = ['티켓링크', '인터파크', '자이언트', 'nc다이노스']\n",
    "\n",
    "# 데이터프레임 생성\n",
    "ticket_reservation_url = pd.DataFrame(data, columns=columns)\n",
    "\n",
    "ticket_reservation_url.to_csv('../csv/scrap_ticket_reservation_url.csv', index=False, encoding='utf-8-sig')\n",
    "\n",
    "# 출력\n",
    "ticket_reservation_url"
   ]
  }
 ],
 "metadata": {
  "kernelspec": {
   "display_name": "base",
   "language": "python",
   "name": "python3"
  },
  "language_info": {
   "codemirror_mode": {
    "name": "ipython",
    "version": 3
   },
   "file_extension": ".py",
   "mimetype": "text/x-python",
   "name": "python",
   "nbconvert_exporter": "python",
   "pygments_lexer": "ipython3",
   "version": "3.12.7"
  }
 },
 "nbformat": 4,
 "nbformat_minor": 5
}
