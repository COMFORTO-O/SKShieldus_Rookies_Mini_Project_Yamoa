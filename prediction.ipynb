{
 "cells": [
  {
   "cell_type": "code",
   "execution_count": 14,
   "id": "33a3f539",
   "metadata": {},
   "outputs": [
    {
     "name": "stdout",
     "output_type": "stream",
     "text": [
      "Collecting selenium\n",
      "  Downloading selenium-4.31.0-py3-none-any.whl.metadata (7.5 kB)\n",
      "Requirement already satisfied: urllib3<3,>=1.26 in c:\\users\\user\\anaconda3\\lib\\site-packages (from urllib3[socks]<3,>=1.26->selenium) (2.2.3)\n",
      "Collecting trio~=0.17 (from selenium)\n",
      "  Downloading trio-0.29.0-py3-none-any.whl.metadata (8.5 kB)\n",
      "Collecting trio-websocket~=0.9 (from selenium)\n",
      "  Downloading trio_websocket-0.12.2-py3-none-any.whl.metadata (5.1 kB)\n",
      "Requirement already satisfied: certifi>=2021.10.8 in c:\\users\\user\\anaconda3\\lib\\site-packages (from selenium) (2025.1.31)\n",
      "Requirement already satisfied: typing_extensions~=4.9 in c:\\users\\user\\anaconda3\\lib\\site-packages (from selenium) (4.11.0)\n",
      "Requirement already satisfied: websocket-client~=1.8 in c:\\users\\user\\anaconda3\\lib\\site-packages (from selenium) (1.8.0)\n",
      "Collecting attrs>=23.2.0 (from trio~=0.17->selenium)\n",
      "  Downloading attrs-25.3.0-py3-none-any.whl.metadata (10 kB)\n",
      "Requirement already satisfied: sortedcontainers in c:\\users\\user\\anaconda3\\lib\\site-packages (from trio~=0.17->selenium) (2.4.0)\n",
      "Requirement already satisfied: idna in c:\\users\\user\\anaconda3\\lib\\site-packages (from trio~=0.17->selenium) (3.7)\n",
      "Collecting outcome (from trio~=0.17->selenium)\n",
      "  Downloading outcome-1.3.0.post0-py2.py3-none-any.whl.metadata (2.6 kB)\n",
      "Requirement already satisfied: sniffio>=1.3.0 in c:\\users\\user\\anaconda3\\lib\\site-packages (from trio~=0.17->selenium) (1.3.0)\n",
      "Requirement already satisfied: cffi>=1.14 in c:\\users\\user\\anaconda3\\lib\\site-packages (from trio~=0.17->selenium) (1.17.1)\n",
      "Collecting wsproto>=0.14 (from trio-websocket~=0.9->selenium)\n",
      "  Downloading wsproto-1.2.0-py3-none-any.whl.metadata (5.6 kB)\n",
      "Requirement already satisfied: pysocks!=1.5.7,<2.0,>=1.5.6 in c:\\users\\user\\anaconda3\\lib\\site-packages (from urllib3[socks]<3,>=1.26->selenium) (1.7.1)\n",
      "Requirement already satisfied: pycparser in c:\\users\\user\\anaconda3\\lib\\site-packages (from cffi>=1.14->trio~=0.17->selenium) (2.21)\n",
      "Requirement already satisfied: h11<1,>=0.9.0 in c:\\users\\user\\anaconda3\\lib\\site-packages (from wsproto>=0.14->trio-websocket~=0.9->selenium) (0.14.0)\n",
      "Downloading selenium-4.31.0-py3-none-any.whl (9.4 MB)\n",
      "   ---------------------------------------- 0.0/9.4 MB ? eta -:--:--\n",
      "   ------- -------------------------------- 1.8/9.4 MB 10.1 MB/s eta 0:00:01\n",
      "   ---------------- ----------------------- 3.9/9.4 MB 10.2 MB/s eta 0:00:01\n",
      "   ------------------------- -------------- 6.0/9.4 MB 10.0 MB/s eta 0:00:01\n",
      "   ---------------------------------- ----- 8.1/9.4 MB 10.1 MB/s eta 0:00:01\n",
      "   ---------------------------------------- 9.4/9.4 MB 9.5 MB/s eta 0:00:00\n",
      "Downloading trio-0.29.0-py3-none-any.whl (492 kB)\n",
      "Downloading trio_websocket-0.12.2-py3-none-any.whl (21 kB)\n",
      "Downloading attrs-25.3.0-py3-none-any.whl (63 kB)\n",
      "Downloading outcome-1.3.0.post0-py2.py3-none-any.whl (10 kB)\n",
      "Downloading wsproto-1.2.0-py3-none-any.whl (24 kB)\n",
      "Installing collected packages: wsproto, attrs, outcome, trio, trio-websocket, selenium\n",
      "  Attempting uninstall: attrs\n",
      "    Found existing installation: attrs 23.1.0\n",
      "    Uninstalling attrs-23.1.0:\n",
      "      Successfully uninstalled attrs-23.1.0\n",
      "Successfully installed attrs-25.3.0 outcome-1.3.0.post0 selenium-4.31.0 trio-0.29.0 trio-websocket-0.12.2 wsproto-1.2.0\n",
      "Note: you may need to restart the kernel to use updated packages.\n"
     ]
    }
   ],
   "source": [
    "%pip install selenium"
   ]
  },
  {
   "cell_type": "code",
   "execution_count": null,
   "id": "d920e620",
   "metadata": {},
   "outputs": [],
   "source": [
    "# 오늘의 경기 승률 예측 코드"
   ]
  },
  {
   "cell_type": "code",
   "execution_count": null,
   "id": "68792ae7",
   "metadata": {},
   "outputs": [
    {
     "data": {
      "text/plain": [
       "['https://www.koreabaseball.com/Schedule/GameCenter/Main.aspx?gameDate=20250416&gameId=20250416SSLG0&section=START_PIT',\n",
       " 'https://www.koreabaseball.com/Schedule/GameCenter/Main.aspx?gameDate=20250416&gameId=20250416HHSK0&section=START_PIT',\n",
       " 'https://www.koreabaseball.com/Schedule/GameCenter/Main.aspx?gameDate=20250416&gameId=20250416WOLT0&section=START_PIT',\n",
       " 'https://www.koreabaseball.com/Schedule/GameCenter/Main.aspx?gameDate=20250416&gameId=20250416KTHT0&section=START_PIT',\n",
       " 'https://www.koreabaseball.com/Schedule/GameCenter/Main.aspx?gameDate=20250417&gameId=20250417SSLG0&section=START_PIT',\n",
       " 'https://www.koreabaseball.com/Schedule/GameCenter/Main.aspx?gameDate=20250417&gameId=20250417HHSK0&section=START_PIT',\n",
       " 'https://www.koreabaseball.com/Schedule/GameCenter/Main.aspx?gameDate=20250417&gameId=20250417WOLT0&section=START_PIT',\n",
       " 'https://www.koreabaseball.com/Schedule/GameCenter/Main.aspx?gameDate=20250417&gameId=20250417KTHT0&section=START_PIT',\n",
       " 'https://www.koreabaseball.com/Schedule/GameCenter/Main.aspx?gameDate=20250418&gameId=20250418HTOB0&section=START_PIT',\n",
       " 'https://www.koreabaseball.com/Schedule/GameCenter/Main.aspx?gameDate=20250418&gameId=20250418LGSK0&section=START_PIT',\n",
       " 'https://www.koreabaseball.com/Schedule/GameCenter/Main.aspx?gameDate=20250418&gameId=20250418LTSS0&section=START_PIT',\n",
       " 'https://www.koreabaseball.com/Schedule/GameCenter/Main.aspx?gameDate=20250418&gameId=20250418KTWO0&section=START_PIT',\n",
       " 'https://www.koreabaseball.com/Schedule/GameCenter/Main.aspx?gameDate=20250418&gameId=20250418NCHH0&section=START_PIT',\n",
       " 'https://www.koreabaseball.com/Schedule/GameCenter/Main.aspx?gameDate=20250419&gameId=20250419HTOB0&section=START_PIT',\n",
       " 'https://www.koreabaseball.com/Schedule/GameCenter/Main.aspx?gameDate=20250419&gameId=20250419LGSK0&section=START_PIT',\n",
       " 'https://www.koreabaseball.com/Schedule/GameCenter/Main.aspx?gameDate=20250419&gameId=20250419LTSS0&section=START_PIT',\n",
       " 'https://www.koreabaseball.com/Schedule/GameCenter/Main.aspx?gameDate=20250419&gameId=20250419KTWO0&section=START_PIT',\n",
       " 'https://www.koreabaseball.com/Schedule/GameCenter/Main.aspx?gameDate=20250419&gameId=20250419NCHH0&section=START_PIT',\n",
       " 'https://www.koreabaseball.com/Schedule/GameCenter/Main.aspx?gameDate=20250420&gameId=20250420HTOB0&section=START_PIT',\n",
       " 'https://www.koreabaseball.com/Schedule/GameCenter/Main.aspx?gameDate=20250420&gameId=20250420LGSK0&section=START_PIT',\n",
       " 'https://www.koreabaseball.com/Schedule/GameCenter/Main.aspx?gameDate=20250420&gameId=20250420LTSS0&section=START_PIT',\n",
       " 'https://www.koreabaseball.com/Schedule/GameCenter/Main.aspx?gameDate=20250420&gameId=20250420KTWO0&section=START_PIT',\n",
       " 'https://www.koreabaseball.com/Schedule/GameCenter/Main.aspx?gameDate=20250420&gameId=20250420NCHH0&section=START_PIT',\n",
       " 'https://www.koreabaseball.com/Schedule/GameCenter/Main.aspx?gameDate=20250422&gameId=20250422NCLG0&section=START_PIT',\n",
       " 'https://www.koreabaseball.com/Schedule/GameCenter/Main.aspx?gameDate=20250422&gameId=20250422HHLT0&section=START_PIT',\n",
       " 'https://www.koreabaseball.com/Schedule/GameCenter/Main.aspx?gameDate=20250422&gameId=20250422HTSS0&section=START_PIT',\n",
       " 'https://www.koreabaseball.com/Schedule/GameCenter/Main.aspx?gameDate=20250422&gameId=20250422SKKT0&section=START_PIT',\n",
       " 'https://www.koreabaseball.com/Schedule/GameCenter/Main.aspx?gameDate=20250422&gameId=20250422OBWO0&section=START_PIT',\n",
       " 'https://www.koreabaseball.com/Schedule/GameCenter/Main.aspx?gameDate=20250423&gameId=20250423NCLG0&section=START_PIT',\n",
       " 'https://www.koreabaseball.com/Schedule/GameCenter/Main.aspx?gameDate=20250423&gameId=20250423HHLT0&section=START_PIT',\n",
       " 'https://www.koreabaseball.com/Schedule/GameCenter/Main.aspx?gameDate=20250423&gameId=20250423HTSS0&section=START_PIT',\n",
       " 'https://www.koreabaseball.com/Schedule/GameCenter/Main.aspx?gameDate=20250423&gameId=20250423SKKT0&section=START_PIT',\n",
       " 'https://www.koreabaseball.com/Schedule/GameCenter/Main.aspx?gameDate=20250423&gameId=20250423OBWO0&section=START_PIT']"
      ]
     },
     "execution_count": 19,
     "metadata": {},
     "output_type": "execute_result"
    }
   ],
   "source": [
    "# 1. 경기 정보 데이터 (팀, 구장, 날짜, 시간) 스크래핑\n",
    "from selenium import webdriver\n",
    "from selenium.webdriver.common.by import By\n",
    "from selenium.webdriver.support.ui import WebDriverWait\n",
    "from selenium.webdriver.support import expected_conditions as EC\n",
    "import time\n",
    "\n",
    "# Chrome 드라이버를 새로 설치하여 Chrome 실행\n",
    "driver = webdriver.Chrome()\n",
    "\n",
    "# 사이트 접속\n",
    "driver.get(\"https://www.koreabaseball.com/Schedule/Schedule.aspx\")\n",
    "\n",
    "# 페이지가 로드될 때까지 대기\n",
    "WebDriverWait(driver, 10).until(EC.presence_of_element_located((By.TAG_NAME, \"body\")))\n",
    "time.sleep(2)\n",
    "\n",
    "# 텍스트가 '프리뷰'인 a태그 추출출\n",
    "# 해당 사이트는 동적 페이지이기 때문에 동적 웹 스크래핑 라이브러리인 selenium을 사용해야 함\n",
    "a_tag_preview_text = driver.find_elements(By.XPATH, \"//a[normalize-space(text())='프리뷰']\")\n",
    "\n",
    "\n",
    "# URL을 저장할 빈 리스트 생성\n",
    "preview_url_list = []\n",
    "\n",
    "# 프리뷰 URL 추출\n",
    "for index, link in enumerate(a_tag_preview_text):\n",
    "    href = link.get_attribute('href')\n",
    "    preview_url_list.append(href)\n",
    "\n",
    "# Chrome 닫기\n",
    "driver.quit()\n",
    "\n",
    "# 출력\n",
    "print(preview_url_list)"
   ]
  }
 ],
 "metadata": {
  "kernelspec": {
   "display_name": "base",
   "language": "python",
   "name": "python3"
  },
  "language_info": {
   "codemirror_mode": {
    "name": "ipython",
    "version": 3
   },
   "file_extension": ".py",
   "mimetype": "text/x-python",
   "name": "python",
   "nbconvert_exporter": "python",
   "pygments_lexer": "ipython3",
   "version": "3.12.7"
  }
 },
 "nbformat": 4,
 "nbformat_minor": 5
}
