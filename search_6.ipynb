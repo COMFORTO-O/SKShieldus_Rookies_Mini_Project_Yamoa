{
 "cells": [
  {
   "cell_type": "code",
   "execution_count": 41,
   "id": "1684cfe3",
   "metadata": {},
   "outputs": [],
   "source": [
    "import requests\n",
    "from bs4 import BeautifulSoup\n",
    "from urllib.parse import urljoin\n",
    "from IPython.display import Image, display\n",
    "\n",
    "section_dict = {'최신뉴스':'BreakingNews','프리뷰':'Preview','스타 인터뷰':'Interview','KBO PHOTO':'KboPhoto'}\n",
    "\n",
    "def save_news(dict, section_name):    \n",
    "    m_id = section_dict[section_name]\n",
    "\n",
    "    url = f'https://www.koreabaseball.com/MediaNews/News/{m_id}/List.aspx'\n",
    "\n",
    "    req_header = {\n",
    "        'user-agent': 'Mozilla/5.0 (Windows NT 10.0; Win64; x64) AppleWebKit/537.36 (KHTML, like Gecko) Chrome/104.0.0.0 Safari/537.36'\n",
    "    }\n",
    "\n",
    "    res = requests.get(url, headers=req_header)\n",
    "\n",
    "    if res.ok:\n",
    "        res.encoding = 'utf-8'\n",
    "        html = res.text\n",
    "        soup = BeautifulSoup(html, 'html.parser')\n",
    "\n",
    "        tags = soup.select(\"ul.boardPhoto li\")\n",
    "\n",
    "        for i, li in enumerate(tags, 1):  # 상위 5개만 출력할게욥~ ✨\n",
    "            news_data = {}\n",
    "            \n",
    "            a_tag = li.find('a')\n",
    "            if a_tag:\n",
    "                link = urljoin(url, a_tag['href'])\n",
    "                news_data['link'] = link\n",
    "\n",
    "            img_tag = li.select_one('img')\n",
    "            if img_tag and img_tag.get('src'):\n",
    "                img_url = urljoin(url, img_tag['src'])\n",
    "                news_data['img'] = img_url\n",
    "                # display(Image(url=img_url))\n",
    "                \n",
    "            title_tag = li.select_one('strong')\n",
    "            if title_tag:\n",
    "                title = title_tag.text.strip()\n",
    "                news_data['title'] = title\n",
    "                \n",
    "            dict.append(news_data)\n",
    "\n",
    "    else:\n",
    "        print(f'에러코드 = {res.status_code}')"
   ]
  },
  {
   "cell_type": "code",
   "execution_count": 40,
   "id": "651b311c",
   "metadata": {},
   "outputs": [],
   "source": [
    "new_dict = []\n",
    "preview_dict = []\n",
    "interview_dict = []\n",
    "photo_dict = []\n",
    "\n",
    "save_news(new_dict, '최신뉴스')\n",
    "save_news(preview_dict, '프리뷰')\n",
    "save_news(interview_dict, '스타 인터뷰')\n",
    "save_news(photo_dict, 'KBO PHOTO')"
   ]
  }
 ],
 "metadata": {
  "kernelspec": {
   "display_name": "base",
   "language": "python",
   "name": "python3"
  },
  "language_info": {
   "codemirror_mode": {
    "name": "ipython",
    "version": 3
   },
   "file_extension": ".py",
   "mimetype": "text/x-python",
   "name": "python",
   "nbconvert_exporter": "python",
   "pygments_lexer": "ipython3",
   "version": "3.12.7"
  }
 },
 "nbformat": 4,
 "nbformat_minor": 5
}
