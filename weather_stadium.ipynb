{
 "cells": [
  {
   "cell_type": "code",
   "execution_count": 29,
   "id": "c8a079fa",
   "metadata": {},
   "outputs": [
    {
     "name": "stderr",
     "output_type": "stream",
     "text": [
      "INFO:WDM:====== WebDriver manager ======\n",
      "INFO:WDM:Get LATEST chromedriver version for google-chrome\n",
      "INFO:WDM:Get LATEST chromedriver version for google-chrome\n",
      "INFO:WDM:Driver [C:\\Users\\user\\.wdm\\drivers\\chromedriver\\win64\\135.0.7049.95\\chromedriver-win32/chromedriver.exe] found in cache\n",
      "INFO:__main__:페이지 로드 완료\n",
      "INFO:__main__:총 1개의 sports_list 항목 발견\n",
      "INFO:__main__:드라이버 종료 완료\n"
     ]
    },
    {
     "name": "stdout",
     "output_type": "stream",
     "text": [
      "\n",
      "[추출 결과]\n"
     ]
    },
    {
     "data": {
      "text/plain": [
       "{'대구야구장': 'https://wwwnew.kweather.co.kr/forecast/forecast_sports.html?index=1&area=27230510|143&rname=Xff3TxYgVPouVSwRTRIN&idx=baseball',\n",
       " '마산야구장': 'https://wwwnew.kweather.co.kr/forecast/forecast_sports.html?index=2&area=48160720|155&rname=XRL/UeMkVPouVSwRTRIN&idx=baseball',\n",
       " '사직야구장': 'https://wwwnew.kweather.co.kr/forecast/forecast_sports.html?index=3&area=26260590|159&rname=Xu0jUQj1VPouVSwRTRIN&idx=baseball',\n",
       " '목동야구장': 'https://wwwnew.kweather.co.kr/forecast/forecast_sports.html?index=4&area=11470510|108&rname=XRUgUPANVPouVSwRTRIN&idx=baseball',\n",
       " '잠실야구장': 'https://wwwnew.kweather.co.kr/forecast/forecast_sports.html?index=5&area=11710720|108&rname=XgkXUewYVPouVSwRTRIN&idx=baseball',\n",
       " '문학야구장': 'https://wwwnew.kweather.co.kr/forecast/forecast_sports.html?index=6&area=28170740|112&rname=XRcvUvYNVPouVSwRTRIN&idx=baseball',\n",
       " '월명야구장': 'https://wwwnew.kweather.co.kr/forecast/forecast_sports.html?index=7&area=45130680|140&rname=XgYLUAv5VPouVSwRTRIN&idx=baseball',\n",
       " '무등야구장': 'https://wwwnew.kweather.co.kr/forecast/forecast_sports.html?index=8&area=29170570|156&rname=XRcrUPQlVPouVSwRTRIN&idx=baseball',\n",
       " '청주야구장': 'https://wwwnew.kweather.co.kr/forecast/forecast_sports.html?index=9&area=43113630|131&rname=Xh0kUQQwVPouVSwRTRIN&idx=baseball',\n",
       " '한밭야구장': 'https://wwwnew.kweather.co.kr/forecast/forecast_sports.html?index=10&area=30140640|133&rname=XwATUBEhVPouVSwRTRIN&idx=baseball'}"
      ]
     },
     "execution_count": 29,
     "metadata": {},
     "output_type": "execute_result"
    }
   ],
   "source": [
    "from selenium import webdriver\n",
    "from selenium.webdriver.chrome.service import Service\n",
    "from webdriver_manager.chrome import ChromeDriverManager\n",
    "from selenium.webdriver.common.by import By\n",
    "from selenium.webdriver.chrome.options import Options\n",
    "from selenium.common.exceptions import NoSuchElementException\n",
    "import logging\n",
    "\n",
    "# 로깅 설정\n",
    "logging.basicConfig(level=logging.INFO)\n",
    "logger = logging.getLogger(__name__)\n",
    "\n",
    "\"\"\"li.sports_list 내부의 a 태그 정보 추출\"\"\"\n",
    "chrome_options = Options()\n",
    "chrome_options.add_argument(\"--headless\")\n",
    "chrome_options.add_argument(\"--no-sandbox\")\n",
    "chrome_options.add_argument(\"--disable-dev-shm-usage\")\n",
    "\n",
    "driver = None\n",
    "try:\n",
    "    # 드라이버 설정\n",
    "    driver = webdriver.Chrome(\n",
    "        service=Service(ChromeDriverManager().install()),\n",
    "        options=chrome_options\n",
    "    )\n",
    "\n",
    "    # 페이지 접속\n",
    "    url = \"https://wwwnew.kweather.co.kr/forecast/forecast_sports.html?idx=baseball\"\n",
    "    driver.get(url)\n",
    "    logger.info(\"페이지 로드 완료\")\n",
    "\n",
    "    # 데이터 추출\n",
    "    stadium_link_dic = {}\n",
    "    stadium_list = []\n",
    "    sports_list_items = driver.find_elements(By.CSS_SELECTOR, 'li.sports_list')\n",
    "    logger.info(f\"총 {len(sports_list_items)}개의 sports_list 항목 발견\")\n",
    "\n",
    "    for li_item in sports_list_items:\n",
    "        try:\n",
    "            # 각 li 내부의 span들에서 a 태그 찾기\n",
    "            spans = li_item.find_elements(By.CSS_SELECTOR, 'span')\n",
    "            for span in spans:\n",
    "                try:\n",
    "                    a_tag = span.find_element(By.CSS_SELECTOR, \"a[href*='PouVSwRTRIN&idx=baseball']\")\n",
    "                    href = a_tag.get_attribute('href')\n",
    "                    \n",
    "                    try:\n",
    "                        name = a_tag.text\n",
    "                    except NoSuchElementException:\n",
    "                        name = \"\"\n",
    "                    stadium_list.append(name)\n",
    "                    stadium_link_dic[name] = href\n",
    "\n",
    "                    logger.debug(f\"추출 완료: {name} - {href}\")\n",
    "                    \n",
    "                except NoSuchElementException:\n",
    "                    continue\n",
    "\n",
    "\n",
    "        except Exception as e:\n",
    "            logger.warning(f\"항목 처리 중 오류: {str(e)}\")\n",
    "            continue\n",
    "\n",
    "except Exception as e:\n",
    "    logger.error(f\"전체 프로세스 오류: {str(e)}\")\n",
    "finally:\n",
    "    if driver:\n",
    "        driver.quit()\n",
    "        logger.info(\"드라이버 종료 완료\")\n",
    "\n",
    "\n",
    "print(\"\\n[추출 결과]\")\n",
    "# stadium_list\n",
    "stadium_link_dic\n",
    "\n",
    "        "
   ]
  },
  {
   "cell_type": "code",
   "execution_count": 25,
   "id": "d5c16717",
   "metadata": {},
   "outputs": [
    {
     "name": "stderr",
     "output_type": "stream",
     "text": [
      "INFO:WDM:====== WebDriver manager ======\n",
      "INFO:WDM:Get LATEST chromedriver version for google-chrome\n",
      "INFO:WDM:Get LATEST chromedriver version for google-chrome\n",
      "INFO:WDM:Driver [C:\\Users\\user\\.wdm\\drivers\\chromedriver\\win64\\135.0.7049.95\\chromedriver-win32/chromedriver.exe] found in cache\n",
      "INFO:__main__:대구야구장 페이지 로드 시작\n",
      "INFO:__main__:대구야구장 데이터 추출 완료\n"
     ]
    },
    {
     "name": "stdout",
     "output_type": "stream",
     "text": [
      "대구야구장 데이터 추출 완료\n"
     ]
    },
    {
     "name": "stderr",
     "output_type": "stream",
     "text": [
      "INFO:__main__:마산야구장 페이지 로드 시작\n",
      "INFO:__main__:마산야구장 데이터 추출 완료\n"
     ]
    },
    {
     "name": "stdout",
     "output_type": "stream",
     "text": [
      "마산야구장 데이터 추출 완료\n"
     ]
    },
    {
     "name": "stderr",
     "output_type": "stream",
     "text": [
      "INFO:__main__:사직야구장 페이지 로드 시작\n",
      "INFO:__main__:사직야구장 데이터 추출 완료\n"
     ]
    },
    {
     "name": "stdout",
     "output_type": "stream",
     "text": [
      "사직야구장 데이터 추출 완료\n"
     ]
    },
    {
     "name": "stderr",
     "output_type": "stream",
     "text": [
      "INFO:__main__:목동야구장 페이지 로드 시작\n",
      "INFO:__main__:목동야구장 데이터 추출 완료\n"
     ]
    },
    {
     "name": "stdout",
     "output_type": "stream",
     "text": [
      "목동야구장 데이터 추출 완료\n"
     ]
    },
    {
     "name": "stderr",
     "output_type": "stream",
     "text": [
      "INFO:__main__:잠실야구장 페이지 로드 시작\n",
      "INFO:__main__:잠실야구장 데이터 추출 완료\n"
     ]
    },
    {
     "name": "stdout",
     "output_type": "stream",
     "text": [
      "잠실야구장 데이터 추출 완료\n"
     ]
    },
    {
     "name": "stderr",
     "output_type": "stream",
     "text": [
      "INFO:__main__:문학야구장 페이지 로드 시작\n",
      "INFO:__main__:문학야구장 데이터 추출 완료\n"
     ]
    },
    {
     "name": "stdout",
     "output_type": "stream",
     "text": [
      "문학야구장 데이터 추출 완료\n"
     ]
    },
    {
     "name": "stderr",
     "output_type": "stream",
     "text": [
      "INFO:__main__:월명야구장 페이지 로드 시작\n",
      "INFO:__main__:월명야구장 데이터 추출 완료\n"
     ]
    },
    {
     "name": "stdout",
     "output_type": "stream",
     "text": [
      "월명야구장 데이터 추출 완료\n"
     ]
    },
    {
     "name": "stderr",
     "output_type": "stream",
     "text": [
      "INFO:__main__:무등야구장 페이지 로드 시작\n",
      "INFO:__main__:무등야구장 데이터 추출 완료\n"
     ]
    },
    {
     "name": "stdout",
     "output_type": "stream",
     "text": [
      "무등야구장 데이터 추출 완료\n"
     ]
    },
    {
     "name": "stderr",
     "output_type": "stream",
     "text": [
      "INFO:__main__:청주야구장 페이지 로드 시작\n",
      "INFO:__main__:청주야구장 데이터 추출 완료\n"
     ]
    },
    {
     "name": "stdout",
     "output_type": "stream",
     "text": [
      "청주야구장 데이터 추출 완료\n"
     ]
    },
    {
     "name": "stderr",
     "output_type": "stream",
     "text": [
      "INFO:__main__:한밭야구장 페이지 로드 시작\n",
      "INFO:__main__:한밭야구장 데이터 추출 완료\n"
     ]
    },
    {
     "name": "stdout",
     "output_type": "stream",
     "text": [
      "한밭야구장 데이터 추출 완료\n"
     ]
    }
   ],
   "source": [
    "from selenium.webdriver.support.ui import WebDriverWait\n",
    "from selenium.webdriver.support import expected_conditions as EC\n",
    "from selenium.common.exceptions import TimeoutException\n",
    "import pandas as pd\n",
    "\n",
    "\"\"\"\n",
    "경기장 이름을 입력받아 해당 페이지의 날씨 정보 추출\n",
    ":param stadium_link_dic: {'경기장명': '링크'} 형식의 딕셔너리\n",
    ":param stadium_name: 조회할 경기장 이름\n",
    ":return: 테이블 헤더와 데이터를 포함한 딕셔너리\n",
    "\"\"\"\n",
    "chrome_options = Options()\n",
    "chrome_options.add_argument(\"--headless\")\n",
    "chrome_options.add_argument(\"--no-sandbox\")\n",
    "chrome_options.add_argument(\"--disable-dev-shm-usage\")\n",
    "\n",
    "driver = None\n",
    "\n",
    "try:\n",
    "    # 드라이버 설정\n",
    "    driver = webdriver.Chrome(\n",
    "        service=Service(ChromeDriverManager().install()),\n",
    "        options=chrome_options\n",
    "    )\n",
    "\n",
    "    all_rows = []\n",
    "\n",
    "    for stadium_name in stadium_list:\n",
    "\n",
    "        # 해당 경기장 페이지 접속\n",
    "        driver.get(stadium_link_dic[stadium_name])\n",
    "        logger.info(f\"{stadium_name} 페이지 로드 시작\")\n",
    "\n",
    "        # 테이블 로딩 대기 (최대 15초)\n",
    "        try:\n",
    "            WebDriverWait(driver, 15).until(\n",
    "                EC.presence_of_element_located((By.CSS_SELECTOR, 'li.lifestyle_present_forecast_table'))\n",
    "            )\n",
    "        except TimeoutException:\n",
    "            logger.error(\"테이블 요소를 찾을 수 없음\")\n",
    "            \n",
    "\n",
    "        # 테이블 데이터 추출\n",
    "        table = driver.find_element(By.CSS_SELECTOR, 'li.lifestyle_present_forecast_table')\n",
    "        \n",
    "        # thead에서 컬럼명 추출\n",
    "        columns = [th.text for th in table.find_elements(By.CSS_SELECTOR, 'thead th')]\n",
    "        \n",
    "        # tbody에서 데이터 추출\n",
    "        rows = []\n",
    "        for tr in table.find_elements(By.CSS_SELECTOR, 'tbody tr'):\n",
    "            row_data = [td.text for td in tr.find_elements(By.TAG_NAME, 'td')]\n",
    "            if row_data:  # 빈 행 제외\n",
    "                rows.append(row_data)\n",
    "\n",
    "        # 결과 구조화\n",
    "        result = {\n",
    "            'stadium': stadium_name,\n",
    "            'columns': columns,\n",
    "            'rows': rows\n",
    "        }\n",
    "\n",
    "        all_rows.extend(rows)\n",
    "\n",
    "        logger.info(f\"{stadium_name} 데이터 추출 완료\")\n",
    "        print(f\"{stadium_name} 데이터 추출 완료\")\n",
    "\n",
    "except Exception as e:\n",
    "    logger.error(f\"전체 프로세스 오류: {str(e)}\")\n",
    "\n",
    "all_rows = [[stadium_list[i]] + row for i, row in enumerate(all_rows)]\n",
    "all_columns = ['stadium'] + columns\n",
    "\n",
    "weather_stadium_df = pd.DataFrame(all_rows, columns=all_columns)\n",
    "\n",
    "driver.quit()\n",
    "\n",
    "weather_stadium_df.to_csv('weather_stadium_data.csv', index=False, encoding='utf-8-sig')"
   ]
  },
  {
   "cell_type": "code",
   "execution_count": 43,
   "id": "f62601c1",
   "metadata": {},
   "outputs": [
    {
     "name": "stderr",
     "output_type": "stream",
     "text": [
      "INFO:WDM:====== WebDriver manager ======\n",
      "INFO:WDM:Get LATEST chromedriver version for google-chrome\n",
      "INFO:WDM:Get LATEST chromedriver version for google-chrome\n",
      "INFO:WDM:Driver [C:\\Users\\user\\.wdm\\drivers\\chromedriver\\win64\\135.0.7049.95\\chromedriver-win32/chromedriver.exe] found in cache\n",
      "INFO:__main__:대구야구장 페이지 로드 시작\n",
      "INFO:__main__:대구야구장 데이터 추출 완료\n"
     ]
    },
    {
     "name": "stdout",
     "output_type": "stream",
     "text": [
      "-시 강수 확률: -\n",
      "-시 기온: 22\n",
      "14시 강수 확률: 30\n",
      "14시 기온: 23\n",
      "15시 강수 확률: 30\n",
      "15시 기온: 23\n",
      "16시 강수 확률: 30\n",
      "16시 기온: 23\n",
      "17시 강수 확률: 30\n",
      "17시 기온: 23\n",
      "18시 강수 확률: 30\n",
      "18시 기온: 22\n",
      "['-시', '14시', '15시', '16시', '17시', '18시']\n",
      "['-', '30', '30', '30', '30', '30']\n",
      "['22', '23', '23', '23', '23', '22']\n",
      "대구야구장 데이터 추출 완료\n"
     ]
    },
    {
     "name": "stderr",
     "output_type": "stream",
     "text": [
      "INFO:__main__:마산야구장 페이지 로드 시작\n",
      "INFO:__main__:마산야구장 데이터 추출 완료\n"
     ]
    },
    {
     "name": "stdout",
     "output_type": "stream",
     "text": [
      "-시 강수 확률: -\n",
      "-시 기온: -\n",
      "-시 강수 확률: -\n",
      "-시 기온: -\n",
      "-시 강수 확률: -\n",
      "-시 기온: 19\n",
      "16시 강수 확률: 30\n",
      "16시 기온: 19\n",
      "17시 강수 확률: 30\n",
      "17시 기온: 19\n",
      "18시 강수 확률: 30\n",
      "18시 기온: 18\n",
      "['-시', '-시', '-시', '16시', '17시', '18시']\n",
      "['-', '-', '-', '30', '30', '30']\n",
      "['-', '-', '19', '19', '19', '18']\n",
      "마산야구장 데이터 추출 완료\n"
     ]
    },
    {
     "name": "stderr",
     "output_type": "stream",
     "text": [
      "INFO:__main__:사직야구장 페이지 로드 시작\n",
      "INFO:__main__:사직야구장 데이터 추출 완료\n"
     ]
    },
    {
     "name": "stdout",
     "output_type": "stream",
     "text": [
      "13시 강수 확률: 30\n",
      "13시 기온: 18\n",
      "14시 강수 확률: 30\n",
      "14시 기온: 18\n",
      "15시 강수 확률: 30\n",
      "15시 기온: 18\n",
      "16시 강수 확률: 30\n",
      "16시 기온: 18\n",
      "17시 강수 확률: 30\n",
      "17시 기온: 18\n",
      "18시 강수 확률: 30\n",
      "18시 기온: 17\n",
      "['13시', '14시', '15시', '16시', '17시', '18시']\n",
      "['30', '30', '30', '30', '30', '30']\n",
      "['18', '18', '18', '18', '18', '17']\n",
      "사직야구장 데이터 추출 완료\n"
     ]
    },
    {
     "name": "stderr",
     "output_type": "stream",
     "text": [
      "INFO:__main__:목동야구장 페이지 로드 시작\n",
      "INFO:__main__:목동야구장 데이터 추출 완료\n"
     ]
    },
    {
     "name": "stdout",
     "output_type": "stream",
     "text": [
      "-시 강수 확률: -\n",
      "-시 기온: -\n",
      "-시 강수 확률: -\n",
      "-시 기온: 23\n",
      "15시 강수 확률: 40\n",
      "15시 기온: 23\n",
      "16시 강수 확률: 40\n",
      "16시 기온: 22\n",
      "17시 강수 확률: 40\n",
      "17시 기온: 22\n",
      "18시 강수 확률: 40\n",
      "18시 기온: 21\n",
      "['-시', '-시', '15시', '16시', '17시', '18시']\n",
      "['-', '-', '40', '40', '40', '40']\n",
      "['-', '23', '23', '22', '22', '21']\n",
      "목동야구장 데이터 추출 완료\n"
     ]
    },
    {
     "name": "stderr",
     "output_type": "stream",
     "text": [
      "INFO:__main__:잠실야구장 페이지 로드 시작\n",
      "INFO:__main__:잠실야구장 데이터 추출 완료\n"
     ]
    },
    {
     "name": "stdout",
     "output_type": "stream",
     "text": [
      "-시 강수 확률: -\n",
      "-시 기온: 23\n",
      "14시 강수 확률: 40\n",
      "14시 기온: 24\n",
      "15시 강수 확률: 40\n",
      "15시 기온: 24\n",
      "16시 강수 확률: 40\n",
      "16시 기온: 24\n",
      "17시 강수 확률: 40\n",
      "17시 기온: 24\n",
      "18시 강수 확률: 40\n",
      "18시 기온: 23\n",
      "['-시', '14시', '15시', '16시', '17시', '18시']\n",
      "['-', '40', '40', '40', '40', '40']\n",
      "['23', '24', '24', '24', '24', '23']\n",
      "잠실야구장 데이터 추출 완료\n"
     ]
    },
    {
     "name": "stderr",
     "output_type": "stream",
     "text": [
      "INFO:__main__:문학야구장 페이지 로드 시작\n",
      "INFO:__main__:문학야구장 데이터 추출 완료\n"
     ]
    },
    {
     "name": "stdout",
     "output_type": "stream",
     "text": [
      "-시 강수 확률: -\n",
      "-시 기온: 19\n",
      "14시 강수 확률: 40\n",
      "14시 기온: 19\n",
      "15시 강수 확률: 40\n",
      "15시 기온: 19\n",
      "16시 강수 확률: 40\n",
      "16시 기온: 19\n",
      "17시 강수 확률: 40\n",
      "17시 기온: 18\n",
      "18시 강수 확률: 40\n",
      "18시 기온: 17\n",
      "['-시', '14시', '15시', '16시', '17시', '18시']\n",
      "['-', '40', '40', '40', '40', '40']\n",
      "['19', '19', '19', '19', '18', '17']\n",
      "문학야구장 데이터 추출 완료\n"
     ]
    },
    {
     "name": "stderr",
     "output_type": "stream",
     "text": [
      "INFO:__main__:월명야구장 페이지 로드 시작\n",
      "INFO:__main__:월명야구장 데이터 추출 완료\n"
     ]
    },
    {
     "name": "stdout",
     "output_type": "stream",
     "text": [
      "-시 강수 확률: -\n",
      "-시 기온: 23\n",
      "14시 강수 확률: 40\n",
      "14시 기온: 24\n",
      "15시 강수 확률: 40\n",
      "15시 기온: 24\n",
      "16시 강수 확률: 40\n",
      "16시 기온: 23\n",
      "17시 강수 확률: 40\n",
      "17시 기온: 22\n",
      "18시 강수 확률: 40\n",
      "18시 기온: 21\n",
      "['-시', '14시', '15시', '16시', '17시', '18시']\n",
      "['-', '40', '40', '40', '40', '40']\n",
      "['23', '24', '24', '23', '22', '21']\n",
      "월명야구장 데이터 추출 완료\n"
     ]
    },
    {
     "name": "stderr",
     "output_type": "stream",
     "text": [
      "INFO:__main__:무등야구장 페이지 로드 시작\n",
      "INFO:__main__:무등야구장 데이터 추출 완료\n"
     ]
    },
    {
     "name": "stdout",
     "output_type": "stream",
     "text": [
      "-시 강수 확률: -\n",
      "-시 기온: -\n",
      "-시 강수 확률: 40\n",
      "-시 기온: 25\n",
      "15시 강수 확률: 40\n",
      "15시 기온: 25\n",
      "16시 강수 확률: 40\n",
      "16시 기온: 25\n",
      "17시 강수 확률: 40\n",
      "17시 기온: 25\n",
      "18시 강수 확률: 40\n",
      "18시 기온: 23\n",
      "['-시', '-시', '15시', '16시', '17시', '18시']\n",
      "['-', '40', '40', '40', '40', '40']\n",
      "['-', '25', '25', '25', '25', '23']\n",
      "무등야구장 데이터 추출 완료\n"
     ]
    },
    {
     "name": "stderr",
     "output_type": "stream",
     "text": [
      "INFO:__main__:청주야구장 페이지 로드 시작\n",
      "INFO:__main__:청주야구장 데이터 추출 완료\n"
     ]
    },
    {
     "name": "stdout",
     "output_type": "stream",
     "text": [
      "-시 강수 확률: 40\n",
      "-시 기온: 24\n",
      "14시 강수 확률: 40\n",
      "14시 기온: 25\n",
      "15시 강수 확률: 40\n",
      "15시 기온: 25\n",
      "16시 강수 확률: 40\n",
      "16시 기온: 25\n",
      "17시 강수 확률: 40\n",
      "17시 기온: 26\n",
      "18시 강수 확률: 40\n",
      "18시 기온: 25\n",
      "['-시', '14시', '15시', '16시', '17시', '18시']\n",
      "['40', '40', '40', '40', '40', '40']\n",
      "['24', '25', '25', '25', '26', '25']\n",
      "청주야구장 데이터 추출 완료\n"
     ]
    },
    {
     "name": "stderr",
     "output_type": "stream",
     "text": [
      "INFO:__main__:한밭야구장 페이지 로드 시작\n",
      "INFO:__main__:한밭야구장 데이터 추출 완료\n"
     ]
    },
    {
     "name": "stdout",
     "output_type": "stream",
     "text": [
      "-시 강수 확률: -\n",
      "-시 기온: -\n",
      "-시 강수 확률: -\n",
      "-시 기온: 25\n",
      "15시 강수 확률: 40\n",
      "15시 기온: 25\n",
      "16시 강수 확률: 40\n",
      "16시 기온: 26\n",
      "17시 강수 확률: 40\n",
      "17시 기온: 26\n",
      "18시 강수 확률: 40\n",
      "18시 기온: 25\n",
      "['-시', '-시', '15시', '16시', '17시', '18시']\n",
      "['-', '-', '40', '40', '40', '40']\n",
      "['-', '25', '25', '26', '26', '25']\n",
      "한밭야구장 데이터 추출 완료\n"
     ]
    }
   ],
   "source": [
    "from selenium.webdriver.support.ui import WebDriverWait\n",
    "from selenium.webdriver.support import expected_conditions as EC\n",
    "from selenium.common.exceptions import TimeoutException\n",
    "import pandas as pd\n",
    "\n",
    "\n",
    "chrome_options = Options()\n",
    "chrome_options.add_argument(\"--headless\")\n",
    "chrome_options.add_argument(\"--no-sandbox\")\n",
    "chrome_options.add_argument(\"--disable-dev-shm-usage\")\n",
    "\n",
    "driver = None\n",
    "\n",
    "try:\n",
    "    # 드라이버 설정\n",
    "    driver = webdriver.Chrome(\n",
    "        service=Service(ChromeDriverManager().install()),\n",
    "        options=chrome_options\n",
    "    )\n",
    "\n",
    "    all_rows = []\n",
    "\n",
    "    for stadium_name in stadium_list:\n",
    "\n",
    "        # 해당 경기장 페이지 접속\n",
    "        driver.get(stadium_link_dic[stadium_name])\n",
    "        logger.info(f\"{stadium_name} 페이지 로드 시작\")\n",
    "\n",
    "        # 테이블 로딩 대기 (최대 15초)\n",
    "        try:\n",
    "            WebDriverWait(driver, 15).until(\n",
    "                EC.presence_of_element_located((By.CSS_SELECTOR, 'table.life_09 tbody tr'))\n",
    "            )\n",
    "        except TimeoutException:\n",
    "            logger.error(\"테이블 요소를 찾을 수 없음\")\n",
    "            \n",
    "\n",
    "        # 테이블 데이터 추출\n",
    "        table = driver.find_element(By.CSS_SELECTOR, 'table.life_09 tbody tr td span')\n",
    "        \n",
    "        time_list = []\n",
    "        rain_list = []\n",
    "        temp_list = []\n",
    "        for i in range(6):  # 필요한 시간대만 선택\n",
    "            time_id = f\"hour{i}time\"\n",
    "            time = driver.find_element(By.ID, time_id).text\n",
    "            rain_id = f\"hour{i}rainProb\"\n",
    "            rain_prob = driver.find_element(By.ID, rain_id).text\n",
    "            temp_id = f\"hour{i}temp\"\n",
    "            temp = driver.find_element(By.ID, temp_id).text\n",
    "            time_list.append(f'{time}시')\n",
    "            rain_list.append(rain_prob) \n",
    "            temp_list.append(temp)\n",
    "            print(f\"{time}시 강수 확률: {rain_prob}\")\n",
    "            print(f\"{time}시 기온: {temp}\")\n",
    "\n",
    "        print(time_list)\n",
    "        print(rain_list)\n",
    "        print(temp_list)\n",
    "\n",
    "        columns = ['stadium'] + time_list\n",
    "        rows1 = [stadium_name] + rain_list\n",
    "        rows2 = [stadium_name] + temp_list\n",
    "\n",
    "        all_rows.append(rows1)\n",
    "        all_rows.append(rows2)\n",
    "        # rows = []\n",
    "        # for tr in table.find_elements(By.CSS_SELECTOR, 'tbody tr'):\n",
    "        #     row_data = [td.text for td in tr.find_elements(By.TAG_NAME, 'td')]\n",
    "        #     rows.append(row_data)\n",
    "        # # 결과 구조화\n",
    "        # result = {\n",
    "        #     'stadium': stadium_name,\n",
    "        #     # 'columns': columns,\n",
    "        #     'rows': rows\n",
    "        # }\n",
    "\n",
    "        # all_rows.extend(rows)\n",
    "\n",
    "        logger.info(f\"{stadium_name} 데이터 추출 완료\")\n",
    "        print(f\"{stadium_name} 데이터 추출 완료\")\n",
    "\n",
    "except Exception as e:\n",
    "    logger.error(f\"전체 프로세스 오류: {str(e)}\")\n",
    "\n",
    "# all_rows = [[stadium_list[i]] + row for i, row in enumerate(all_rows)]\n",
    "# all_columns = ['stadium'] + columns\n",
    "\n",
    "weather_stadium_df = pd.DataFrame(all_rows, columns=columns)    \n",
    "\n",
    "driver.quit()\n",
    "\n",
    "weather_stadium_df\n",
    "\n",
    "weather_stadium_df.to_csv('weather_stadium_data.csv', index=False, encoding='utf-8-sig')"
   ]
  }
 ],
 "metadata": {
  "kernelspec": {
   "display_name": "base",
   "language": "python",
   "name": "python3"
  },
  "language_info": {
   "codemirror_mode": {
    "name": "ipython",
    "version": 3
   },
   "file_extension": ".py",
   "mimetype": "text/x-python",
   "name": "python",
   "nbconvert_exporter": "python",
   "pygments_lexer": "ipython3",
   "version": "3.12.7"
  }
 },
 "nbformat": 4,
 "nbformat_minor": 5
}
