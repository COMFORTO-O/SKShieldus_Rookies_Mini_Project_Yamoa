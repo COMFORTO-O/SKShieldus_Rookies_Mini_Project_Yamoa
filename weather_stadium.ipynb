{
 "cells": [
  {
   "cell_type": "code",
   "execution_count": 2,
   "id": "b826ba7c",
   "metadata": {},
   "outputs": [
    {
     "name": "stdout",
     "output_type": "stream",
     "text": [
      "Requirement already satisfied: selenium in c:\\users\\user\\anaconda3\\lib\\site-packages (4.31.0)\n",
      "Note: you may need to restart the kernel to use updated packages.\n"
     ]
    },
    {
     "name": "stderr",
     "output_type": "stream",
     "text": [
      "ERROR: Could not find a version that satisfies the requirement webdriver (from versions: none)\n",
      "ERROR: No matching distribution found for webdriver\n"
     ]
    }
   ],
   "source": [
    "%pip install selenium webdriver"
   ]
  },
  {
   "cell_type": "code",
   "execution_count": 3,
   "id": "c8a079fa",
   "metadata": {},
   "outputs": [
    {
     "ename": "ModuleNotFoundError",
     "evalue": "No module named 'webdriver_manager'",
     "output_type": "error",
     "traceback": [
      "\u001b[1;31m---------------------------------------------------------------------------\u001b[0m",
      "\u001b[1;31mModuleNotFoundError\u001b[0m                       Traceback (most recent call last)",
      "Cell \u001b[1;32mIn[3], line 3\u001b[0m\n\u001b[0;32m      1\u001b[0m \u001b[38;5;28;01mfrom\u001b[39;00m \u001b[38;5;21;01mselenium\u001b[39;00m \u001b[38;5;28;01mimport\u001b[39;00m webdriver\n\u001b[0;32m      2\u001b[0m \u001b[38;5;28;01mfrom\u001b[39;00m \u001b[38;5;21;01mselenium\u001b[39;00m\u001b[38;5;21;01m.\u001b[39;00m\u001b[38;5;21;01mwebdriver\u001b[39;00m\u001b[38;5;21;01m.\u001b[39;00m\u001b[38;5;21;01mchrome\u001b[39;00m\u001b[38;5;21;01m.\u001b[39;00m\u001b[38;5;21;01mservice\u001b[39;00m \u001b[38;5;28;01mimport\u001b[39;00m Service\n\u001b[1;32m----> 3\u001b[0m \u001b[38;5;28;01mfrom\u001b[39;00m \u001b[38;5;21;01mwebdriver_manager\u001b[39;00m\u001b[38;5;21;01m.\u001b[39;00m\u001b[38;5;21;01mchrome\u001b[39;00m \u001b[38;5;28;01mimport\u001b[39;00m ChromeDriverManager\n\u001b[0;32m      4\u001b[0m \u001b[38;5;28;01mfrom\u001b[39;00m \u001b[38;5;21;01mselenium\u001b[39;00m\u001b[38;5;21;01m.\u001b[39;00m\u001b[38;5;21;01mwebdriver\u001b[39;00m\u001b[38;5;21;01m.\u001b[39;00m\u001b[38;5;21;01mcommon\u001b[39;00m\u001b[38;5;21;01m.\u001b[39;00m\u001b[38;5;21;01mby\u001b[39;00m \u001b[38;5;28;01mimport\u001b[39;00m By\n\u001b[0;32m      5\u001b[0m \u001b[38;5;28;01mfrom\u001b[39;00m \u001b[38;5;21;01mselenium\u001b[39;00m\u001b[38;5;21;01m.\u001b[39;00m\u001b[38;5;21;01mwebdriver\u001b[39;00m\u001b[38;5;21;01m.\u001b[39;00m\u001b[38;5;21;01mchrome\u001b[39;00m\u001b[38;5;21;01m.\u001b[39;00m\u001b[38;5;21;01moptions\u001b[39;00m \u001b[38;5;28;01mimport\u001b[39;00m Options\n",
      "\u001b[1;31mModuleNotFoundError\u001b[0m: No module named 'webdriver_manager'"
     ]
    }
   ],
   "source": [
    "from selenium import webdriver\n",
    "from selenium.webdriver.chrome.service import Service\n",
    "from webdriver_manager.chrome import ChromeDriverManager\n",
    "from selenium.webdriver.common.by import By\n",
    "from selenium.webdriver.chrome.options import Options\n",
    "from selenium.common.exceptions import NoSuchElementException\n",
    "import logging\n",
    "\n",
    "# 로깅 설정\n",
    "logging.basicConfig(level=logging.INFO)\n",
    "logger = logging.getLogger(__name__)\n",
    "\n",
    "\"\"\"li.sports_list 내부의 a 태그 정보 추출\"\"\"\n",
    "chrome_options = Options()\n",
    "chrome_options.add_argument(\"--headless\")\n",
    "chrome_options.add_argument(\"--no-sandbox\")\n",
    "chrome_options.add_argument(\"--disable-dev-shm-usage\")\n",
    "\n",
    "driver = None\n",
    "try:\n",
    "    # 드라이버 설정\n",
    "    driver = webdriver.Chrome(\n",
    "        service=Service(ChromeDriverManager().install()),\n",
    "        options=chrome_options\n",
    "    )\n",
    "\n",
    "    # 페이지 접속\n",
    "    url = \"https://wwwnew.kweather.co.kr/forecast/forecast_sports.html?idx=baseball\"\n",
    "    driver.get(url)\n",
    "    logger.info(\"페이지 로드 완료\")\n",
    "\n",
    "    # 데이터 추출\n",
    "    stadium_link_dic = {}\n",
    "    sports_list_items = driver.find_elements(By.CSS_SELECTOR, 'li.sports_list')\n",
    "    logger.info(f\"총 {len(sports_list_items)}개의 sports_list 항목 발견\")\n",
    "\n",
    "    for li_item in sports_list_items:\n",
    "        try:\n",
    "            # 각 li 내부의 span들에서 a 태그 찾기\n",
    "            spans = li_item.find_elements(By.CSS_SELECTOR, 'span')\n",
    "            for span in spans:\n",
    "                try:\n",
    "                    a_tag = span.find_element(By.CSS_SELECTOR, \"a[href*='PouVSwRTRIN&idx=baseball']\")\n",
    "                    href = a_tag.get_attribute('href')\n",
    "                    \n",
    "                    try:\n",
    "                        name = a_tag.text\n",
    "                    except NoSuchElementException:\n",
    "                        name = \"\"\n",
    "                    stadium_link_dic[name] = href\n",
    "\n",
    "                    logger.debug(f\"추출 완료: {name} - {href}\")\n",
    "                    \n",
    "                except NoSuchElementException:\n",
    "                    continue\n",
    "\n",
    "\n",
    "        except Exception as e:\n",
    "            logger.warning(f\"항목 처리 중 오류: {str(e)}\")\n",
    "            continue\n",
    "\n",
    "except Exception as e:\n",
    "    logger.error(f\"전체 프로세스 오류: {str(e)}\")\n",
    "finally:\n",
    "    if driver:\n",
    "        driver.quit()\n",
    "        logger.info(\"드라이버 종료 완료\")\n",
    "\n",
    "\n",
    "print(\"\\n[추출 결과]\")\n",
    "print(stadium_link_dic)\n",
    "\n",
    "        "
   ]
  },
  {
   "cell_type": "code",
   "execution_count": 21,
   "id": "d5c16717",
   "metadata": {},
   "outputs": [],
   "source": [
    "from selenium.webdriver.support.ui import WebDriverWait\n",
    "from selenium.webdriver.support import expected_conditions as EC\n",
    "from selenium.common.exceptions import TimeoutException\n",
    "\n",
    "def scrape_stadium_forecast(stadium_link_dic, stadium_name):\n",
    "    \"\"\"\n",
    "    경기장 이름을 입력받아 해당 페이지의 날씨 정보 추출\n",
    "    :param stadium_link_dic: {'경기장명': '링크'} 형식의 딕셔너리\n",
    "    :param stadium_name: 조회할 경기장 이름\n",
    "    :return: 테이블 헤더와 데이터를 포함한 딕셔너리\n",
    "    \"\"\"\n",
    "    chrome_options = Options()\n",
    "    chrome_options.add_argument(\"--headless\")\n",
    "    chrome_options.add_argument(\"--no-sandbox\")\n",
    "    chrome_options.add_argument(\"--disable-dev-shm-usage\")\n",
    "\n",
    "    driver = None\n",
    "\n",
    "    try:\n",
    "        \n",
    "        # 드라이버 설정\n",
    "        driver = webdriver.Chrome(\n",
    "            service=Service(ChromeDriverManager().install()),\n",
    "            options=chrome_options\n",
    "        )\n",
    "        \n",
    "        # 해당 경기장 페이지 접속\n",
    "        driver.get(stadium_link_dic[stadium_name])\n",
    "        logger.info(f\"{stadium_name} 페이지 로드 시작\")\n",
    "\n",
    "        # 테이블 로딩 대기 (최대 15초)\n",
    "        try:\n",
    "            WebDriverWait(driver, 15).until(\n",
    "                EC.presence_of_element_located((By.CSS_SELECTOR, 'li.lifestyle_present_forecast_table'))\n",
    "            )\n",
    "        except TimeoutException:\n",
    "            logger.error(\"테이블 요소를 찾을 수 없음\")\n",
    "            return None\n",
    "\n",
    "        # 테이블 데이터 추출\n",
    "        table = driver.find_element(By.CSS_SELECTOR, 'li.lifestyle_present_forecast_table')\n",
    "        \n",
    "        # thead에서 컬럼명 추출\n",
    "        headers = [th.text for th in table.find_elements(By.CSS_SELECTOR, 'thead th')]\n",
    "        \n",
    "        # tbody에서 데이터 추출\n",
    "        rows = []\n",
    "        for tr in table.find_elements(By.CSS_SELECTOR, 'tbody tr'):\n",
    "            row_data = [td.text for td in tr.find_elements(By.TAG_NAME, 'td')]\n",
    "            if row_data:  # 빈 행 제외\n",
    "                rows.append(row_data)\n",
    "\n",
    "        # 결과 구조화\n",
    "        result = {\n",
    "            'stadium': stadium_name,\n",
    "            'headers': headers,\n",
    "            'data': rows,\n",
    "            # 'timestamp': datetime.now().strftime(\"%Y-%m-%d %H:%M:%S\")\n",
    "        }\n",
    "\n",
    "        return result\n",
    "\n",
    "    except Exception as e:\n",
    "        logger.error(f\"에러 발생: {str(e)}\")\n",
    "        return None\n",
    "    finally:\n",
    "        if driver:\n",
    "            driver.quit()"
   ]
  },
  {
   "cell_type": "code",
   "execution_count": 22,
   "id": "d50990ed",
   "metadata": {},
   "outputs": [
    {
     "name": "stderr",
     "output_type": "stream",
     "text": [
      "INFO:WDM:====== WebDriver manager ======\n",
      "INFO:WDM:Get LATEST chromedriver version for google-chrome\n",
      "INFO:WDM:Get LATEST chromedriver version for google-chrome\n",
      "INFO:WDM:Driver [C:\\Users\\user\\.wdm\\drivers\\chromedriver\\win64\\135.0.7049.95\\chromedriver-win32/chromedriver.exe] found in cache\n",
      "INFO:__main__:잠실야구장 페이지 로드 시작\n"
     ]
    },
    {
     "data": {
      "text/plain": [
       "{'stadium': '잠실야구장',\n",
       " 'headers': ['기온', '체감', '풍향', '풍속', '강수', '습도'],\n",
       " 'data': [['21.6℃', '21.6℃', '남남서', '3.6m/s', '-mm', '38%']]}"
      ]
     },
     "execution_count": 22,
     "metadata": {},
     "output_type": "execute_result"
    }
   ],
   "source": [
    "scrape_stadium_forecast(stadium_link_dic, \"잠실야구장\")"
   ]
  }
 ],
 "metadata": {
  "kernelspec": {
   "display_name": "base",
   "language": "python",
   "name": "python3"
  },
  "language_info": {
   "codemirror_mode": {
    "name": "ipython",
    "version": 3
   },
   "file_extension": ".py",
   "mimetype": "text/x-python",
   "name": "python",
   "nbconvert_exporter": "python",
   "pygments_lexer": "ipython3",
   "version": "3.12.7"
  }
 },
 "nbformat": 4,
 "nbformat_minor": 5
}
