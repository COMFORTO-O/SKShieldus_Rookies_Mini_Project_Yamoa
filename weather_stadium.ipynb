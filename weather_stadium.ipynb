{
 "cells": [
  {
   "cell_type": "code",
   "execution_count": 5,
   "id": "c8a079fa",
   "metadata": {},
   "outputs": [
    {
     "name": "stderr",
     "output_type": "stream",
     "text": [
      "INFO:WDM:====== WebDriver manager ======\n",
      "INFO:WDM:Get LATEST chromedriver version for google-chrome\n",
      "INFO:WDM:Get LATEST chromedriver version for google-chrome\n",
      "INFO:WDM:Driver [C:\\Users\\user\\.wdm\\drivers\\chromedriver\\win64\\135.0.7049.95\\chromedriver-win32/chromedriver.exe] found in cache\n",
      "INFO:__main__:페이지 로드 완료\n",
      "INFO:__main__:총 1개의 sports_list 항목 발견\n",
      "INFO:__main__:드라이버 종료 완료\n"
     ]
    },
    {
     "name": "stdout",
     "output_type": "stream",
     "text": [
      "\n",
      "[추출 결과]\n"
     ]
    },
    {
     "data": {
      "text/plain": [
       "{'대구야구장': 'https://wwwnew.kweather.co.kr/forecast/forecast_sports.html?index=1&area=27230510|143&rname=Xff3TxYgVPouVSwRTRIN&idx=baseball',\n",
       " '마산야구장': 'https://wwwnew.kweather.co.kr/forecast/forecast_sports.html?index=2&area=48160720|155&rname=XRL/UeMkVPouVSwRTRIN&idx=baseball',\n",
       " '사직야구장': 'https://wwwnew.kweather.co.kr/forecast/forecast_sports.html?index=3&area=26260590|159&rname=Xu0jUQj1VPouVSwRTRIN&idx=baseball',\n",
       " '목동야구장': 'https://wwwnew.kweather.co.kr/forecast/forecast_sports.html?index=4&area=11470510|108&rname=XRUgUPANVPouVSwRTRIN&idx=baseball',\n",
       " '잠실야구장': 'https://wwwnew.kweather.co.kr/forecast/forecast_sports.html?index=5&area=11710720|108&rname=XgkXUewYVPouVSwRTRIN&idx=baseball',\n",
       " '문학야구장': 'https://wwwnew.kweather.co.kr/forecast/forecast_sports.html?index=6&area=28170740|112&rname=XRcvUvYNVPouVSwRTRIN&idx=baseball',\n",
       " '월명야구장': 'https://wwwnew.kweather.co.kr/forecast/forecast_sports.html?index=7&area=45130680|140&rname=XgYLUAv5VPouVSwRTRIN&idx=baseball',\n",
       " '무등야구장': 'https://wwwnew.kweather.co.kr/forecast/forecast_sports.html?index=8&area=29170570|156&rname=XRcrUPQlVPouVSwRTRIN&idx=baseball',\n",
       " '청주야구장': 'https://wwwnew.kweather.co.kr/forecast/forecast_sports.html?index=9&area=43113630|131&rname=Xh0kUQQwVPouVSwRTRIN&idx=baseball',\n",
       " '한밭야구장': 'https://wwwnew.kweather.co.kr/forecast/forecast_sports.html?index=10&area=30140640|133&rname=XwATUBEhVPouVSwRTRIN&idx=baseball'}"
      ]
     },
     "execution_count": 5,
     "metadata": {},
     "output_type": "execute_result"
    }
   ],
   "source": [
    "from selenium import webdriver\n",
    "from selenium.webdriver.chrome.service import Service\n",
    "from webdriver_manager.chrome import ChromeDriverManager\n",
    "from selenium.webdriver.common.by import By\n",
    "from selenium.webdriver.chrome.options import Options\n",
    "from selenium.common.exceptions import NoSuchElementException\n",
    "import logging\n",
    "\n",
    "# 로깅 설정\n",
    "logging.basicConfig(level=logging.INFO)\n",
    "logger = logging.getLogger(__name__)\n",
    "\n",
    "\"\"\"li.sports_list 내부의 a 태그 정보 추출\"\"\"\n",
    "chrome_options = Options()\n",
    "chrome_options.add_argument(\"--headless\")\n",
    "chrome_options.add_argument(\"--no-sandbox\")\n",
    "chrome_options.add_argument(\"--disable-dev-shm-usage\")\n",
    "\n",
    "driver = None\n",
    "try:\n",
    "    # 드라이버 설정\n",
    "    driver = webdriver.Chrome(\n",
    "        service=Service(ChromeDriverManager().install()),\n",
    "        options=chrome_options\n",
    "    )\n",
    "\n",
    "    # 페이지 접속\n",
    "    url = \"https://wwwnew.kweather.co.kr/forecast/forecast_sports.html?idx=baseball\"\n",
    "    driver.get(url)\n",
    "    logger.info(\"페이지 로드 완료\")\n",
    "\n",
    "    # 데이터 추출\n",
    "    stadium_link_dic = {}\n",
    "    stadium_list = []\n",
    "    sports_list_items = driver.find_elements(By.CSS_SELECTOR, 'li.sports_list')\n",
    "    logger.info(f\"총 {len(sports_list_items)}개의 sports_list 항목 발견\")\n",
    "\n",
    "    for li_item in sports_list_items:\n",
    "        try:\n",
    "            # 각 li 내부의 span들에서 a 태그 찾기\n",
    "            spans = li_item.find_elements(By.CSS_SELECTOR, 'span')\n",
    "            for span in spans:\n",
    "                try:\n",
    "                    a_tag = span.find_element(By.CSS_SELECTOR, \"a[href*='PouVSwRTRIN&idx=baseball']\")\n",
    "                    href = a_tag.get_attribute('href')\n",
    "                    \n",
    "                    try:\n",
    "                        name = a_tag.text\n",
    "                    except NoSuchElementException:\n",
    "                        name = \"\"\n",
    "                    stadium_list.append(name)\n",
    "                    stadium_link_dic[name] = href\n",
    "\n",
    "                    logger.debug(f\"추출 완료: {name} - {href}\")\n",
    "                    \n",
    "                except NoSuchElementException:\n",
    "                    continue\n",
    "\n",
    "\n",
    "        except Exception as e:\n",
    "            logger.warning(f\"항목 처리 중 오류: {str(e)}\")\n",
    "            continue\n",
    "\n",
    "except Exception as e:\n",
    "    logger.error(f\"전체 프로세스 오류: {str(e)}\")\n",
    "finally:\n",
    "    if driver:\n",
    "        driver.quit()\n",
    "        logger.info(\"드라이버 종료 완료\")\n",
    "\n",
    "\n",
    "print(\"\\n[추출 결과]\")\n",
    "# stadium_list\n",
    "stadium_link_dic\n",
    "\n",
    "        "
   ]
  },
  {
   "cell_type": "code",
   "execution_count": null,
   "id": "d5c16717",
   "metadata": {},
   "outputs": [
    {
     "name": "stderr",
     "output_type": "stream",
     "text": [
      "INFO:WDM:====== WebDriver manager ======\n",
      "INFO:WDM:Get LATEST chromedriver version for google-chrome\n",
      "INFO:WDM:Get LATEST chromedriver version for google-chrome\n",
      "INFO:WDM:Driver [C:\\Users\\user\\.wdm\\drivers\\chromedriver\\win64\\135.0.7049.95\\chromedriver-win32/chromedriver.exe] found in cache\n",
      "INFO:__main__:대구야구장 페이지 로드 시작\n",
      "INFO:__main__:대구야구장 데이터 추출 완료\n"
     ]
    },
    {
     "name": "stdout",
     "output_type": "stream",
     "text": [
      "대구야구장 데이터 추출 완료\n"
     ]
    },
    {
     "name": "stderr",
     "output_type": "stream",
     "text": [
      "INFO:__main__:마산야구장 페이지 로드 시작\n",
      "INFO:__main__:마산야구장 데이터 추출 완료\n"
     ]
    },
    {
     "name": "stdout",
     "output_type": "stream",
     "text": [
      "마산야구장 데이터 추출 완료\n"
     ]
    },
    {
     "name": "stderr",
     "output_type": "stream",
     "text": [
      "INFO:__main__:사직야구장 페이지 로드 시작\n",
      "INFO:__main__:사직야구장 데이터 추출 완료\n"
     ]
    },
    {
     "name": "stdout",
     "output_type": "stream",
     "text": [
      "사직야구장 데이터 추출 완료\n"
     ]
    },
    {
     "name": "stderr",
     "output_type": "stream",
     "text": [
      "INFO:__main__:목동야구장 페이지 로드 시작\n",
      "INFO:__main__:목동야구장 데이터 추출 완료\n"
     ]
    },
    {
     "name": "stdout",
     "output_type": "stream",
     "text": [
      "목동야구장 데이터 추출 완료\n"
     ]
    },
    {
     "name": "stderr",
     "output_type": "stream",
     "text": [
      "INFO:__main__:잠실야구장 페이지 로드 시작\n",
      "INFO:__main__:잠실야구장 데이터 추출 완료\n"
     ]
    },
    {
     "name": "stdout",
     "output_type": "stream",
     "text": [
      "잠실야구장 데이터 추출 완료\n"
     ]
    },
    {
     "name": "stderr",
     "output_type": "stream",
     "text": [
      "INFO:__main__:문학야구장 페이지 로드 시작\n",
      "INFO:__main__:문학야구장 데이터 추출 완료\n"
     ]
    },
    {
     "name": "stdout",
     "output_type": "stream",
     "text": [
      "문학야구장 데이터 추출 완료\n"
     ]
    },
    {
     "name": "stderr",
     "output_type": "stream",
     "text": [
      "INFO:__main__:월명야구장 페이지 로드 시작\n",
      "INFO:__main__:월명야구장 데이터 추출 완료\n"
     ]
    },
    {
     "name": "stdout",
     "output_type": "stream",
     "text": [
      "월명야구장 데이터 추출 완료\n"
     ]
    },
    {
     "name": "stderr",
     "output_type": "stream",
     "text": [
      "INFO:__main__:무등야구장 페이지 로드 시작\n",
      "INFO:__main__:무등야구장 데이터 추출 완료\n"
     ]
    },
    {
     "name": "stdout",
     "output_type": "stream",
     "text": [
      "무등야구장 데이터 추출 완료\n"
     ]
    },
    {
     "name": "stderr",
     "output_type": "stream",
     "text": [
      "INFO:__main__:청주야구장 페이지 로드 시작\n",
      "INFO:__main__:청주야구장 데이터 추출 완료\n"
     ]
    },
    {
     "name": "stdout",
     "output_type": "stream",
     "text": [
      "청주야구장 데이터 추출 완료\n"
     ]
    },
    {
     "name": "stderr",
     "output_type": "stream",
     "text": [
      "INFO:__main__:한밭야구장 페이지 로드 시작\n",
      "INFO:__main__:한밭야구장 데이터 추출 완료\n"
     ]
    },
    {
     "name": "stdout",
     "output_type": "stream",
     "text": [
      "한밭야구장 데이터 추출 완료\n"
     ]
    },
    {
     "data": {
      "text/html": [
       "<div>\n",
       "<style scoped>\n",
       "    .dataframe tbody tr th:only-of-type {\n",
       "        vertical-align: middle;\n",
       "    }\n",
       "\n",
       "    .dataframe tbody tr th {\n",
       "        vertical-align: top;\n",
       "    }\n",
       "\n",
       "    .dataframe thead th {\n",
       "        text-align: right;\n",
       "    }\n",
       "</style>\n",
       "<table border=\"1\" class=\"dataframe\">\n",
       "  <thead>\n",
       "    <tr style=\"text-align: right;\">\n",
       "      <th></th>\n",
       "      <th>stadium</th>\n",
       "      <th>기온</th>\n",
       "      <th>체감</th>\n",
       "      <th>풍향</th>\n",
       "      <th>풍속</th>\n",
       "      <th>강수</th>\n",
       "      <th>습도</th>\n",
       "    </tr>\n",
       "  </thead>\n",
       "  <tbody>\n",
       "    <tr>\n",
       "      <th>0</th>\n",
       "      <td>대구야구장</td>\n",
       "      <td>18.9℃</td>\n",
       "      <td>18.9℃</td>\n",
       "      <td>북</td>\n",
       "      <td>1.1m/s</td>\n",
       "      <td>-mm</td>\n",
       "      <td>63%</td>\n",
       "    </tr>\n",
       "    <tr>\n",
       "      <th>1</th>\n",
       "      <td>마산야구장</td>\n",
       "      <td>17.7℃</td>\n",
       "      <td>17.7℃</td>\n",
       "      <td>동남동</td>\n",
       "      <td>2.0m/s</td>\n",
       "      <td>-mm</td>\n",
       "      <td>81%</td>\n",
       "    </tr>\n",
       "    <tr>\n",
       "      <th>2</th>\n",
       "      <td>사직야구장</td>\n",
       "      <td>16.8℃</td>\n",
       "      <td>16.8℃</td>\n",
       "      <td>남서</td>\n",
       "      <td>7.7m/s</td>\n",
       "      <td>-mm</td>\n",
       "      <td>82%</td>\n",
       "    </tr>\n",
       "    <tr>\n",
       "      <th>3</th>\n",
       "      <td>목동야구장</td>\n",
       "      <td>18.7℃</td>\n",
       "      <td>18.7℃</td>\n",
       "      <td>남동</td>\n",
       "      <td>1.6m/s</td>\n",
       "      <td>-mm</td>\n",
       "      <td>71%</td>\n",
       "    </tr>\n",
       "    <tr>\n",
       "      <th>4</th>\n",
       "      <td>잠실야구장</td>\n",
       "      <td>18.7℃</td>\n",
       "      <td>18.7℃</td>\n",
       "      <td>남동</td>\n",
       "      <td>1.6m/s</td>\n",
       "      <td>-mm</td>\n",
       "      <td>71%</td>\n",
       "    </tr>\n",
       "    <tr>\n",
       "      <th>5</th>\n",
       "      <td>문학야구장</td>\n",
       "      <td>17.8℃</td>\n",
       "      <td>17.8℃</td>\n",
       "      <td>남</td>\n",
       "      <td>3.0m/s</td>\n",
       "      <td>-mm</td>\n",
       "      <td>76%</td>\n",
       "    </tr>\n",
       "    <tr>\n",
       "      <th>6</th>\n",
       "      <td>월명야구장</td>\n",
       "      <td>20.3℃</td>\n",
       "      <td>20.3℃</td>\n",
       "      <td>남동</td>\n",
       "      <td>3.5m/s</td>\n",
       "      <td>-mm</td>\n",
       "      <td>70%</td>\n",
       "    </tr>\n",
       "    <tr>\n",
       "      <th>7</th>\n",
       "      <td>무등야구장</td>\n",
       "      <td>19.5℃</td>\n",
       "      <td>19.5℃</td>\n",
       "      <td>남동</td>\n",
       "      <td>4.5m/s</td>\n",
       "      <td>-mm</td>\n",
       "      <td>71%</td>\n",
       "    </tr>\n",
       "    <tr>\n",
       "      <th>8</th>\n",
       "      <td>청주야구장</td>\n",
       "      <td>21.5℃</td>\n",
       "      <td>21.5℃</td>\n",
       "      <td>남남동</td>\n",
       "      <td>1.2m/s</td>\n",
       "      <td>-mm</td>\n",
       "      <td>54%</td>\n",
       "    </tr>\n",
       "    <tr>\n",
       "      <th>9</th>\n",
       "      <td>한밭야구장</td>\n",
       "      <td>21.4℃</td>\n",
       "      <td>21.4℃</td>\n",
       "      <td>남남동</td>\n",
       "      <td>1.8m/s</td>\n",
       "      <td>-mm</td>\n",
       "      <td>58%</td>\n",
       "    </tr>\n",
       "  </tbody>\n",
       "</table>\n",
       "</div>"
      ],
      "text/plain": [
       "  stadium     기온     체감   풍향      풍속   강수   습도\n",
       "0   대구야구장  18.9℃  18.9℃    북  1.1m/s  -mm  63%\n",
       "1   마산야구장  17.7℃  17.7℃  동남동  2.0m/s  -mm  81%\n",
       "2   사직야구장  16.8℃  16.8℃   남서  7.7m/s  -mm  82%\n",
       "3   목동야구장  18.7℃  18.7℃   남동  1.6m/s  -mm  71%\n",
       "4   잠실야구장  18.7℃  18.7℃   남동  1.6m/s  -mm  71%\n",
       "5   문학야구장  17.8℃  17.8℃    남  3.0m/s  -mm  76%\n",
       "6   월명야구장  20.3℃  20.3℃   남동  3.5m/s  -mm  70%\n",
       "7   무등야구장  19.5℃  19.5℃   남동  4.5m/s  -mm  71%\n",
       "8   청주야구장  21.5℃  21.5℃  남남동  1.2m/s  -mm  54%\n",
       "9   한밭야구장  21.4℃  21.4℃  남남동  1.8m/s  -mm  58%"
      ]
     },
     "execution_count": 17,
     "metadata": {},
     "output_type": "execute_result"
    }
   ],
   "source": [
    "from selenium.webdriver.support.ui import WebDriverWait\n",
    "from selenium.webdriver.support import expected_conditions as EC\n",
    "from selenium.common.exceptions import TimeoutException\n",
    "import pandas as pd\n",
    "\n",
    "\"\"\"\n",
    "경기장 이름을 입력받아 해당 페이지의 날씨 정보 추출\n",
    ":param stadium_link_dic: {'경기장명': '링크'} 형식의 딕셔너리\n",
    ":param stadium_name: 조회할 경기장 이름\n",
    ":return: 테이블 헤더와 데이터를 포함한 딕셔너리\n",
    "\"\"\"\n",
    "chrome_options = Options()\n",
    "chrome_options.add_argument(\"--headless\")\n",
    "chrome_options.add_argument(\"--no-sandbox\")\n",
    "chrome_options.add_argument(\"--disable-dev-shm-usage\")\n",
    "\n",
    "driver = None\n",
    "\n",
    "try:\n",
    "    # 드라이버 설정\n",
    "    driver = webdriver.Chrome(\n",
    "        service=Service(ChromeDriverManager().install()),\n",
    "        options=chrome_options\n",
    "    )\n",
    "\n",
    "    all_rows = []\n",
    "\n",
    "    for stadium_name in stadium_list:\n",
    "\n",
    "        # 해당 경기장 페이지 접속\n",
    "        driver.get(stadium_link_dic[stadium_name])\n",
    "        logger.info(f\"{stadium_name} 페이지 로드 시작\")\n",
    "\n",
    "        # 테이블 로딩 대기 (최대 15초)\n",
    "        try:\n",
    "            WebDriverWait(driver, 15).until(\n",
    "                EC.presence_of_element_located((By.CSS_SELECTOR, 'li.lifestyle_present_forecast_table'))\n",
    "            )\n",
    "        except TimeoutException:\n",
    "            logger.error(\"테이블 요소를 찾을 수 없음\")\n",
    "            \n",
    "\n",
    "        # 테이블 데이터 추출\n",
    "        table = driver.find_element(By.CSS_SELECTOR, 'li.lifestyle_present_forecast_table')\n",
    "        \n",
    "        # thead에서 컬럼명 추출\n",
    "        columns = [th.text for th in table.find_elements(By.CSS_SELECTOR, 'thead th')]\n",
    "        \n",
    "        # tbody에서 데이터 추출\n",
    "        rows = []\n",
    "        for tr in table.find_elements(By.CSS_SELECTOR, 'tbody tr'):\n",
    "            row_data = [td.text for td in tr.find_elements(By.TAG_NAME, 'td')]\n",
    "            if row_data:  # 빈 행 제외\n",
    "                rows.append(row_data)\n",
    "\n",
    "        # 결과 구조화\n",
    "        result = {\n",
    "            'stadium': stadium_name,\n",
    "            'columns': columns,\n",
    "            'rows': rows\n",
    "        }\n",
    "\n",
    "        all_rows.extend(rows)\n",
    "\n",
    "        logger.info(f\"{stadium_name} 데이터 추출 완료\")\n",
    "        print(f\"{stadium_name} 데이터 추출 완료\")\n",
    "\n",
    "except Exception as e:\n",
    "    logger.error(f\"전체 프로세스 오류: {str(e)}\")\n",
    "\n",
    "all_rows = [[stadium_list[i]] + row for i, row in enumerate(all_rows)]\n",
    "all_columns = ['stadium'] + columns\n",
    "\n",
    "df = pd.DataFrame(all_rows, columns=all_columns)\n",
    "\n",
    "driver.quit()\n",
    "\n",
    "df"
   ]
  }
 ],
 "metadata": {
  "kernelspec": {
   "display_name": "base",
   "language": "python",
   "name": "python3"
  },
  "language_info": {
   "codemirror_mode": {
    "name": "ipython",
    "version": 3
   },
   "file_extension": ".py",
   "mimetype": "text/x-python",
   "name": "python",
   "nbconvert_exporter": "python",
   "pygments_lexer": "ipython3",
   "version": "3.12.7"
  }
 },
 "nbformat": 4,
 "nbformat_minor": 5
}
