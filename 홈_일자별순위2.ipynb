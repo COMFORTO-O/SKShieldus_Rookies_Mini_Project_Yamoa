{
 "cells": [
  {
   "cell_type": "markdown",
   "id": "5f73b804",
   "metadata": {},
   "source": [
    "### 준비하기"
   ]
  },
  {
   "cell_type": "code",
   "execution_count": null,
   "id": "9cdb18b6",
   "metadata": {},
   "outputs": [],
   "source": [
    "from selenium import webdriver\n",
    "from selenium.webdriver.chrome.service import Service\n",
    "from webdriver_manager.chrome import ChromeDriverManager\n",
    "from selenium.webdriver.common.by import By\n",
    "import time\n",
    "import pandas as pd\n",
    "import json\n",
    "import matplotlib\n",
    "import matplotlib.pyplot as plt\n",
    "import matplotlib.font_manager as fm\n",
    "\n",
    "# font name을 알고 있다면 생략가능\n",
    "#한글폰트 path 설정\n",
    "font_path = 'C:\\\\windows\\\\Fonts\\\\malgun.ttf'\n",
    "#font의 파일정보로 font name 을 알아내기\n",
    "font_prop = fm.FontProperties(fname=font_path).get_name()\n",
    "print(font_prop)\n",
    "\n",
    "# matplotlib의 rc(run command) 함수를 사용해서 font name(Malgun Gothic) 설정\n",
    "matplotlib.rc('font', family=font_prop)"
   ]
  },
  {
   "cell_type": "markdown",
   "id": "cfcb7943",
   "metadata": {},
   "source": [
    "### 웹 크롤링(함수)"
   ]
  },
  {
   "cell_type": "code",
   "execution_count": 2,
   "id": "f7744674",
   "metadata": {},
   "outputs": [],
   "source": [
    "# 1. Selenium으로 데이터 크롤링\n",
    "def scrape_kbo_rankings():\n",
    "    # 크롬 드라이버 초기화\n",
    "    driver = webdriver.Chrome()\n",
    "    driver.get(\"https://www.koreabaseball.com/Record/TeamRank/TeamRankDaily.aspx\")\n",
    "    time.sleep(3)\n",
    "    \n",
    "    # 팀 데이터를 저장할 딕셔너리\n",
    "    team_data = {}\n",
    "    \n",
    "    # 해당 테이블의 summary 값 (구분 기준)\n",
    "    target_summary = \"순위, 팀명,승,패,무,승률,승차,최근10경기,연속,홈,방문\"\n",
    "\n",
    "    # 필요한 날짜 범위만큼 반복 (예: 최근 5일 데이터)\n",
    "    for _ in range(5):\n",
    "        # print(f\"\\n=== {day + 1}번째 날짜 크롤링 시작 ===\")  # 디버깅용 메시지\n",
    "        # 날짜 추출\n",
    "        date_element = driver.find_element(By.ID, \"cphContents_cphContents_cphContents_lblSearchDateTitle\")\n",
    "        current_date = date_element.text.strip()\n",
    "        # print(f\"현재 날짜: {current_date}\")  # 가져온 날짜 출력 (디버깅용)\n",
    "        \n",
    "        # summary 속성을 기준으로 테이블 선택\n",
    "        table = None\n",
    "        tables = driver.find_elements(By.TAG_NAME, \"table\")\n",
    "        for tbl in tables:\n",
    "            summary_attribute = tbl.get_attribute(\"summary\")\n",
    "            if summary_attribute == target_summary:\n",
    "                table = tbl\n",
    "                break\n",
    "            \n",
    "        # 테이블을 찾지 못한 경우\n",
    "        if table is None:\n",
    "            # print(f\"'{target_summary}'를 가진 테이블을 찾지 못했습니다. 다음 날짜로 이동합니다.\")\n",
    "            continue\n",
    "        \n",
    "        \n",
    "         # 테이블 행 데이터 가져오기\n",
    "        rows = driver.find_elements(By.CSS_SELECTOR, 'tbody tr')\n",
    "        # print(f\"총 {len(rows)}개의 행이 발견되었습니다! (summary='{target_summary}')\")\n",
    "\n",
    "        for i, row in enumerate(rows):\n",
    "            cols = row.find_elements(By.TAG_NAME, 'td')\n",
    "            \n",
    "            # 디버깅: 각 행의 모든 열 데이터 출력\n",
    "            # print(f\"행 {i + 1} 데이터: {[col.text.strip() for col in cols]}\")\n",
    "\n",
    "            # 데이터 행 필터링 (열이 부족하거나, 첫 번째 열이 숫자 형식이 아니면 스킵)\n",
    "            if len(cols) < 2:\n",
    "                # print(f\"데이터가 부족한 행입니다. 건너뜁니다.\")\n",
    "                continue\n",
    "\n",
    "            rank_text = cols[0].text.strip()  # 첫 번째 칸: 순위\n",
    "            if not rank_text.isdigit():  # 숫자가 아니면 무시\n",
    "                # print(f\"순위 값이 숫자가 아닙니다: {rank_text}\")\n",
    "                continue\n",
    "\n",
    "            # 정제된 데이터 추출\n",
    "            rank = int(rank_text)\n",
    "            team_name = cols[1].text.strip()  # 두 번째 칸: 팀 이름\n",
    "            # print(f\"  - 순위 {rank}: {team_name}\")\n",
    "\n",
    "            # 팀 데이터 저장\n",
    "            if team_name not in team_data:\n",
    "                team_data[team_name] = []\n",
    "            \n",
    "            team_data[team_name].append({\"date\": current_date, \"rank\": rank})\n",
    "\n",
    "        # \"이전 날짜\" 버튼 클릭\n",
    "        prev_date_button = driver.find_element(By.ID, \"cphContents_cphContents_cphContents_btnPreDate\")\n",
    "        prev_date_button.click()\n",
    "        # print(\"이전 날짜로 이동 중...\")\n",
    "        time.sleep(3)  # 데이터 로드 대기\n",
    "\n",
    "    driver.quit()\n",
    "    # print(\"\\n크롤링 완료! 팀별 데이터를 딕셔너리에 저장했습니다.\")\n",
    "    \n",
    "    # print(\"\\n=== 수집된 데이터 일부 확인 ===\")\n",
    "    # for team, records in team_data.items():\n",
    "    #     print(f\"팀: {team}, 데이터: {records[:2]}\")  # 각 팀의 첫 2개 데이터만 출력\n",
    "\n",
    "    return team_data"
   ]
  },
  {
   "cell_type": "markdown",
   "id": "bc3e20af",
   "metadata": {},
   "source": [
    "### json으로 저장(함수)"
   ]
  },
  {
   "cell_type": "code",
   "execution_count": 3,
   "id": "eba43757",
   "metadata": {},
   "outputs": [],
   "source": [
    "# JSON 파일 저장 함수 정의\n",
    "def save_to_json(data, filename=\"kbo_rankings.json\"):\n",
    "    \"\"\"\n",
    "    딕셔너리를 JSON 파일로 저장하는 함수\n",
    "    :param data: 저장할 데이터 (딕셔너리)\n",
    "    :param filename: 생성할 JSON 파일 이름 (기본값: \"kbo_rankings.json\")\n",
    "    \"\"\"\n",
    "    try:\n",
    "        with open(filename, \"w\", encoding=\"utf-8\") as json_file:\n",
    "            json.dump(data, json_file, indent=4, ensure_ascii=False)  # JSON 파일 생성\n",
    "        print(f\"\\n데이터가 JSON 파일 '{filename}'로 저장되었습니다.\")\n",
    "    except Exception as e:\n",
    "        print(f\"\\nJSON 파일 저장 중 오류 발생: {e}\")"
   ]
  },
  {
   "cell_type": "markdown",
   "id": "c913603b",
   "metadata": {},
   "source": [
    "### json을 dataframe으로 변환(함수)"
   ]
  },
  {
   "cell_type": "code",
   "execution_count": 4,
   "id": "f1543000",
   "metadata": {},
   "outputs": [],
   "source": [
    "def load_data_from_json(json_data):\n",
    "    \"\"\"\n",
    "    JSON 데이터를 Pandas DataFrame으로 변환.\n",
    "    :param json_data: JSON 데이터 딕셔너리\n",
    "    :return: 최근 -> 과거 순으로 정렬된 DataFrame\n",
    "    \"\"\"\n",
    "    # JSON 데이터를 병합해 DataFrame으로 변환\n",
    "    all_data = []\n",
    "    for team, records in json_data.items():\n",
    "        for record in records:\n",
    "            record[\"team\"] = team  # 팀 이름 추가\n",
    "            all_data.append(record)\n",
    "    \n",
    "    # DataFrame 생성\n",
    "    df = pd.DataFrame(all_data)\n",
    "    \n",
    "    # 날짜 변환 및 내림차순 정렬 (최근 -> 과거)\n",
    "    df['date'] = pd.to_datetime(df['date'], format='%Y.%m.%d')  # 날짜 형식 변환\n",
    "    df = df.sort_values(by=[\"date\", \"rank\"], ascending=[False, True]).reset_index(drop=True)  # 내림차순으로 날짜 정렬\n",
    "    \n",
    "    return df"
   ]
  },
  {
   "cell_type": "markdown",
   "id": "f123b85a",
   "metadata": {},
   "source": [
    "### 홈 일자별 팀 순위 시각화 하기(함수)"
   ]
  },
  {
   "cell_type": "code",
   "execution_count": 5,
   "id": "be2ee429",
   "metadata": {},
   "outputs": [],
   "source": [
    "def visualize_rank_trends(df):\n",
    "    \"\"\"\n",
    "    전체 팀 순위 변화를 날짜별로 시각화하며,\n",
    "    범례는 최신 날짜 순위를 기준으로 정렬.\n",
    "    \"\"\"\n",
    "    plt.figure(figsize=(15, 8))  # 그래프 크기 조정\n",
    "    \n",
    "    # 최신 날짜 기준으로 team 정렬\n",
    "    most_recent_date = df['date'].max()  # 최신 날짜\n",
    "    recent_data = df[df['date'] == most_recent_date]  # 최신 날짜 데이터 필터링\n",
    "    sorted_teams = recent_data.sort_values(by='rank')['team'].tolist()  # 최신 순위로 팀 정렬\n",
    "    \n",
    "    # print(f\"최신 날짜: {most_recent_date}\")\n",
    "    # print(f\"범례 팀 순서: {sorted_teams}\")\n",
    "    \n",
    "    # 팀별 데이터 플로팅\n",
    "    for team in sorted_teams:  # 정렬된 팀 순서로 플로팅\n",
    "        team_data = df[df['team'] == team].sort_values(by='date', ascending=False)  # 팀별 데이터 내림차순 정렬\n",
    "        plt.plot(team_data['date'], team_data['rank'], marker='o', label=team)\n",
    "    \n",
    "    # 그래프 설정\n",
    "    plt.gca().invert_yaxis()  # 순위 낮은 값이 위로 향하도록 반전\n",
    "    # plt.xlabel(\"날짜\", fontsize=12)\n",
    "    plt.ylabel(\"순위\", fontsize=12)\n",
    "    plt.title(\"KBO 팀별 순위 변화\", fontsize=16)\n",
    "    plt.legend(\n",
    "        title=\"팀\",          # 범례 제목\n",
    "        fontsize=10,         # 범례 글자 크기\n",
    "        loc='upper left'    # 범례 위치: 오른쪽 아래\n",
    "    )\n",
    "    plt.yticks(range(1, 11))\n",
    "    # plt.xticks(rotation=45)  # 날짜 각도 회전\n",
    "    # 수직선 제거, 수평선만 유지\n",
    "    plt.grid(axis='x', linestyle='')  # 수직선 제거\n",
    "    plt.grid(axis='y', linestyle='-', alpha=0.7)  # 수평선 유지\n",
    "    plt.show()"
   ]
  },
  {
   "cell_type": "markdown",
   "id": "2a7c2fbe",
   "metadata": {},
   "source": [
    "### 함수 호출하기"
   ]
  },
  {
   "cell_type": "code",
   "execution_count": 6,
   "id": "9b572fab",
   "metadata": {},
   "outputs": [],
   "source": [
    "# scrape_kbo_rankings 함수를 실행하고, 결과를 변수에 저장\n",
    "team_data = scrape_kbo_rankings()\n",
    "\n",
    "# # 결과를 확인\n",
    "# print(team_data)"
   ]
  },
  {
   "cell_type": "code",
   "execution_count": null,
   "id": "9cf82046",
   "metadata": {},
   "outputs": [],
   "source": [
    "save_to_json(team_data)"
   ]
  },
  {
   "cell_type": "code",
   "execution_count": 9,
   "id": "c994f226",
   "metadata": {},
   "outputs": [],
   "source": [
    "# JSON 데이터 로드\n",
    "with open(\"kbo_rankings.json\", \"r\", encoding=\"utf-8\") as file:\n",
    "    json_data = json.load(file)\n",
    "\n",
    "df = load_data_from_json(json_data)\n",
    "\n",
    "# # 데이터 확인\n",
    "# print(df.head())  # 상위 5개 출력 (최근 -> 과거 순)"
   ]
  },
  {
   "cell_type": "code",
   "execution_count": null,
   "id": "3c391b9f",
   "metadata": {},
   "outputs": [],
   "source": [
    "# 시각화 함수 호출\n",
    "visualize_rank_trends(df)"
   ]
  }
 ],
 "metadata": {
  "kernelspec": {
   "display_name": "base",
   "language": "python",
   "name": "python3"
  },
  "language_info": {
   "codemirror_mode": {
    "name": "ipython",
    "version": 3
   },
   "file_extension": ".py",
   "mimetype": "text/x-python",
   "name": "python",
   "nbconvert_exporter": "python",
   "pygments_lexer": "ipython3",
   "version": "3.12.7"
  }
 },
 "nbformat": 4,
 "nbformat_minor": 5
}
